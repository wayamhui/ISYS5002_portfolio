{
  "nbformat": 4,
  "nbformat_minor": 5,
  "metadata": {
    "kernelspec": {
      "display_name": "Python 3 (ipykernel)",
      "language": "python",
      "name": "python3"
    },
    "language_info": {
      "codemirror_mode": {
        "name": "ipython",
        "version": 3
      },
      "file_extension": ".py",
      "mimetype": "text/x-python",
      "name": "python",
      "nbconvert_exporter": "python",
      "pygments_lexer": "ipython3",
      "version": "3.9.6"
    },
    "colab": {
      "name": "input_validation - 20486978.ipynb",
      "provenance": [],
      "include_colab_link": true
    }
  },
  "cells": [
    {
      "cell_type": "markdown",
      "metadata": {
        "id": "view-in-github",
        "colab_type": "text"
      },
      "source": [
        "<a href=\"https://colab.research.google.com/github/wayamhui/ISYS5002_portfolio/blob/main/input_validation_20486978.ipynb\" target=\"_parent\"><img src=\"https://colab.research.google.com/assets/colab-badge.svg\" alt=\"Open In Colab\"/></a>"
      ]
    },
    {
      "cell_type": "markdown",
      "metadata": {
        "id": "b5835b0c"
      },
      "source": [
        "# Input Validation\n",
        "\n",
        "Input validation code verifies that user supplied data, such as text from the input() function, is formatted appropriately.\n",
        "\n",
        "* try/except\n",
        "* isdigit()\n",
        "* pyinputplus\n",
        "\n",
        "## try/except"
      ],
      "id": "b5835b0c"
    },
    {
      "cell_type": "code",
      "metadata": {
        "colab": {
          "base_uri": "https://localhost:8080/"
        },
        "id": "695b1f5f",
        "outputId": "498da50b-3783-4cd5-bdec-8a5856b0dadf"
      },
      "source": [
        "\n",
        "\n",
        "\n",
        "while True:\n",
        "  try:\n",
        "    integer = int(input (\"Please enter your age (integer): \") )\n",
        "    break\n",
        "  except ValueError:\n",
        "    print (\"Please enter as integer\")\n",
        "    \n",
        "prompt = \"Please enter your age (integer): \"\n",
        "prompt2 = \"Please re-enter as integer\"\n",
        "print (integer)\n",
        "print ('Let us try again')\n",
        "\n",
        "valid = False\n",
        "while not valid:   \n",
        "  try:\n",
        "    integer = int( input(prompt) ) \n",
        "    # no need to break\n",
        "    valid = True    # this is earsier to understand than \"while True\", as it can avoid using break\n",
        "  except ValueError:\n",
        "    print (prompt2)\n",
        "\n",
        "print(integer, 'is an integer.')"
      ],
      "id": "695b1f5f",
      "execution_count": 1,
      "outputs": [
        {
          "output_type": "stream",
          "name": "stdout",
          "text": [
            "Please enter your age (integer): 1\n",
            "1\n",
            "Let us try again\n",
            "Please enter your age (integer): 10\n",
            "10 is an integer.\n"
          ]
        }
      ]
    },
    {
      "cell_type": "markdown",
      "metadata": {
        "id": "acc7252b"
      },
      "source": [
        "## isdigit()"
      ],
      "id": "acc7252b"
    },
    {
      "cell_type": "code",
      "metadata": {
        "colab": {
          "base_uri": "https://localhost:8080/"
        },
        "id": "5f98c241",
        "outputId": "636a90cf-ebf4-4c30-a12d-282d6bd6a4bd"
      },
      "source": [
        "\n",
        "valid = False\n",
        "while not valid:\n",
        "  integer = input(prompt)\n",
        "  if integer.isdigit():\n",
        "    valid = True\n",
        "  else:   \n",
        "    print (prompt2)\n",
        "\n",
        "print(integer, 'is an integer.')"
      ],
      "id": "5f98c241",
      "execution_count": 2,
      "outputs": [
        {
          "output_type": "stream",
          "name": "stdout",
          "text": [
            "Please enter your age (integer): 4\n",
            "4 is an integer.\n"
          ]
        }
      ]
    },
    {
      "cell_type": "markdown",
      "metadata": {
        "id": "18c00dc3"
      },
      "source": [
        "## Module: pyinputs"
      ],
      "id": "18c00dc3"
    },
    {
      "cell_type": "code",
      "metadata": {
        "colab": {
          "base_uri": "https://localhost:8080/"
        },
        "id": "dfe1740b",
        "outputId": "368dbb8a-7996-4abc-c31a-e0f22941c620"
      },
      "source": [
        "!pip install PyInputPlus\n",
        "\n",
        "\n"
      ],
      "id": "dfe1740b",
      "execution_count": 3,
      "outputs": [
        {
          "output_type": "stream",
          "name": "stdout",
          "text": [
            "Collecting PyInputPlus\n",
            "  Downloading PyInputPlus-0.2.12.tar.gz (20 kB)\n",
            "  Installing build dependencies ... \u001b[?25l\u001b[?25hdone\n",
            "  Getting requirements to build wheel ... \u001b[?25l\u001b[?25hdone\n",
            "    Preparing wheel metadata ... \u001b[?25l\u001b[?25hdone\n",
            "Collecting stdiomask>=0.0.3\n",
            "  Downloading stdiomask-0.0.6.tar.gz (3.6 kB)\n",
            "  Installing build dependencies ... \u001b[?25l\u001b[?25hdone\n",
            "  Getting requirements to build wheel ... \u001b[?25l\u001b[?25hdone\n",
            "    Preparing wheel metadata ... \u001b[?25l\u001b[?25hdone\n",
            "Collecting pysimplevalidate>=0.2.7\n",
            "  Downloading PySimpleValidate-0.2.12.tar.gz (22 kB)\n",
            "  Installing build dependencies ... \u001b[?25l\u001b[?25hdone\n",
            "  Getting requirements to build wheel ... \u001b[?25l\u001b[?25hdone\n",
            "    Preparing wheel metadata ... \u001b[?25l\u001b[?25hdone\n",
            "Building wheels for collected packages: PyInputPlus, pysimplevalidate, stdiomask\n",
            "  Building wheel for PyInputPlus (PEP 517) ... \u001b[?25l\u001b[?25hdone\n",
            "  Created wheel for PyInputPlus: filename=PyInputPlus-0.2.12-py3-none-any.whl size=11315 sha256=985cd03fcc268a949f7b883bf3c05a6fe8c9ff584e75a4e81884f54aeedb4e0f\n",
            "  Stored in directory: /root/.cache/pip/wheels/e7/33/73/719f8f1bd984d39face880fd22f6c5ef1b85f726e84c687094\n",
            "  Building wheel for pysimplevalidate (PEP 517) ... \u001b[?25l\u001b[?25hdone\n",
            "  Created wheel for pysimplevalidate: filename=PySimpleValidate-0.2.12-py3-none-any.whl size=16191 sha256=49c742ad0ed2276186500320d2705ec6fe62e05f44c6c05b2a2344787dc880ce\n",
            "  Stored in directory: /root/.cache/pip/wheels/5a/8b/6c/2925d22b93860bdc9b8ce02c3d2cf79336606f7469cef66065\n",
            "  Building wheel for stdiomask (PEP 517) ... \u001b[?25l\u001b[?25hdone\n",
            "  Created wheel for stdiomask: filename=stdiomask-0.0.6-py3-none-any.whl size=3320 sha256=5cc8478f3beb18f6fbe42c74ef07be79cb148129e988185ed9a2bddbd1059b85\n",
            "  Stored in directory: /root/.cache/pip/wheels/cf/13/89/64d0d3b167759523f4c1e68f883bbc30e7bfa27050edeb418e\n",
            "Successfully built PyInputPlus pysimplevalidate stdiomask\n",
            "Installing collected packages: stdiomask, pysimplevalidate, PyInputPlus\n",
            "Successfully installed PyInputPlus-0.2.12 pysimplevalidate-0.2.12 stdiomask-0.0.6\n"
          ]
        }
      ]
    },
    {
      "cell_type": "code",
      "metadata": {
        "colab": {
          "base_uri": "https://localhost:8080/"
        },
        "id": "S6_JTnSV-v-t",
        "outputId": "a3252c67-02bf-4cb3-bf3a-d44ab99262be"
      },
      "source": [
        "import pyinputplus as pi\n",
        "num1 = pi.inputNum('Please enter your age (decimal point is allowed):')\n",
        "\n",
        "print (num1, 'is a number')"
      ],
      "id": "S6_JTnSV-v-t",
      "execution_count": 4,
      "outputs": [
        {
          "output_type": "stream",
          "name": "stdout",
          "text": [
            "Please enter your age (decimal point is allowed):4.5\n",
            "4.5 is a number\n"
          ]
        }
      ]
    }
  ]
}