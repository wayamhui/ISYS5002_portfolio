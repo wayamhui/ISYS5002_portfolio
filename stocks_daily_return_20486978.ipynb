{
  "nbformat": 4,
  "nbformat_minor": 5,
  "metadata": {
    "kernelspec": {
      "display_name": "Python 3 (ipykernel)",
      "language": "python",
      "name": "python3"
    },
    "language_info": {
      "codemirror_mode": {
        "name": "ipython",
        "version": 3
      },
      "file_extension": ".py",
      "mimetype": "text/x-python",
      "name": "python",
      "nbconvert_exporter": "python",
      "pygments_lexer": "ipython3",
      "version": "3.9.6"
    },
    "colab": {
      "name": "stocks_daily_return - 20486978.ipynb",
      "provenance": [],
      "include_colab_link": true
    }
  },
  "cells": [
    {
      "cell_type": "markdown",
      "metadata": {
        "id": "view-in-github",
        "colab_type": "text"
      },
      "source": [
        "<a href=\"https://colab.research.google.com/github/wayamhui/ISYS5002_portfolio/blob/main/stocks_daily_return_20486978.ipynb\" target=\"_parent\"><img src=\"https://colab.research.google.com/assets/colab-badge.svg\" alt=\"Open In Colab\"/></a>"
      ]
    },
    {
      "cell_type": "markdown",
      "metadata": {
        "id": "b5ae41e0"
      },
      "source": [
        "# Stock Data\n",
        "\n",
        "* Read CSV file\n",
        "* Use CSV module\n",
        "* Use Pandas\n",
        "  * CSV\n",
        "  * Excel"
      ],
      "id": "b5ae41e0"
    },
    {
      "cell_type": "code",
      "metadata": {
        "colab": {
          "base_uri": "https://localhost:8080/"
        },
        "id": "1e11a5be",
        "outputId": "ee9fc882-8d33-47c6-9333-48c9ceaca68a"
      },
      "source": [
        "csvname = '/content/GOOG.csv'\n",
        "\n",
        "lines=[]\n",
        "with open(csvname, 'r') as f:\n",
        "  for the_line in f:\n",
        "    lines.append(the_line)\n",
        "print (lines[0])\n",
        "print (lines[1])"
      ],
      "id": "1e11a5be",
      "execution_count": 3,
      "outputs": [
        {
          "output_type": "stream",
          "name": "stdout",
          "text": [
            "Date,Open,High,Low,Close,Adj Close,Volume\n",
            "\n",
            "2004-08-19,49.813290,51.835709,47.800831,49.982655,49.982655,44871361\n",
            "\n"
          ]
        }
      ]
    },
    {
      "cell_type": "code",
      "metadata": {
        "id": "BPBemJw0oAnd"
      },
      "source": [
        ""
      ],
      "id": "BPBemJw0oAnd",
      "execution_count": 3,
      "outputs": []
    },
    {
      "cell_type": "markdown",
      "metadata": {
        "id": "e63f358d"
      },
      "source": [
        "## Read CSV file"
      ],
      "id": "e63f358d"
    },
    {
      "cell_type": "code",
      "metadata": {
        "colab": {
          "base_uri": "https://localhost:8080/"
        },
        "id": "9Rg0r0NDn-Gp",
        "outputId": "2170087b-5d8a-4693-910b-68a3fe9afcbb"
      },
      "source": [
        "row = lines[1].split(',')\n",
        "print (row)"
      ],
      "id": "9Rg0r0NDn-Gp",
      "execution_count": 4,
      "outputs": [
        {
          "output_type": "stream",
          "name": "stdout",
          "text": [
            "['2004-08-19', '49.813290', '51.835709', '47.800831', '49.982655', '49.982655', '44871361\\n']\n"
          ]
        }
      ]
    },
    {
      "cell_type": "markdown",
      "metadata": {
        "id": "6d1de788"
      },
      "source": [
        "## Module: CSV"
      ],
      "id": "6d1de788"
    },
    {
      "cell_type": "code",
      "metadata": {
        "colab": {
          "base_uri": "https://localhost:8080/"
        },
        "id": "17d5e7e0",
        "outputId": "a8dcaf04-e27a-482e-c0de-781492508eed"
      },
      "source": [
        "import csv\n",
        "file = open(csvname, newline='')\n",
        "reader = csv.reader(file)\n",
        "\n",
        "header = next(reader) \n",
        "print (header)\n",
        "\n",
        "data=[]\n",
        "for row in reader:  #please remember row\n",
        "  date = (row[0])\n",
        "  openP = float(row[1])\n",
        "  highP = float(row[2])\n",
        "  lowP = float(row[3])\n",
        "  closeP = float(row[4])\n",
        "  adjP = float(row[5])\n",
        "  volume = float(row[6])\n",
        "  data.append([date, openP, highP, lowP, closeP, adjP, volume])  # remember use square bracket\n",
        "\n",
        "print (data[0][1])\n",
        "print( type (data[0]))\n",
        "\n",
        "daily_return = (data[0][5]) / (data[0][1]) - 1 \n",
        "\n",
        "print (date,': Close price is higher than open price by', daily_return*100,'%')"
      ],
      "id": "17d5e7e0",
      "execution_count": 5,
      "outputs": [
        {
          "output_type": "stream",
          "name": "stdout",
          "text": [
            "['Date', 'Open', 'High', 'Low', 'Close', 'Adj Close', 'Volume']\n",
            "49.81329\n",
            "<class 'list'>\n",
            "2021-08-24 : Close price is higher than open price by 0.3399996266056693 %\n"
          ]
        }
      ]
    },
    {
      "cell_type": "markdown",
      "metadata": {
        "id": "1af66a5b"
      },
      "source": [
        "## Module: Pandas"
      ],
      "id": "1af66a5b"
    },
    {
      "cell_type": "code",
      "metadata": {
        "colab": {
          "base_uri": "https://localhost:8080/"
        },
        "id": "494f6466",
        "outputId": "7ec74cb1-8e44-4c01-f4f3-9f469cb1994f"
      },
      "source": [
        "import pandas as pd\n",
        "data = pd.read_csv(csvname)\n",
        "data.head(1)\n",
        "data.tail()\n",
        "\n",
        "print (data.head(2))\n",
        "print (type(data.head(1)))\n",
        "print (type(data))\n",
        "\n",
        "help (data.head)\n",
        "\n",
        "\n",
        "# can't work: cPrice = data.head.close"
      ],
      "id": "494f6466",
      "execution_count": 6,
      "outputs": [
        {
          "output_type": "stream",
          "name": "stdout",
          "text": [
            "         Date       Open       High        Low      Close  Adj Close    Volume\n",
            "0  2004-08-19  49.813290  51.835709  47.800831  49.982655  49.982655  44871361\n",
            "1  2004-08-20  50.316402  54.336334  50.062355  53.952770  53.952770  22942874\n",
            "<class 'pandas.core.frame.DataFrame'>\n",
            "<class 'pandas.core.frame.DataFrame'>\n",
            "Help on method head in module pandas.core.generic:\n",
            "\n",
            "head(n: int = 5) -> ~FrameOrSeries method of pandas.core.frame.DataFrame instance\n",
            "    Return the first `n` rows.\n",
            "    \n",
            "    This function returns the first `n` rows for the object based\n",
            "    on position. It is useful for quickly testing if your object\n",
            "    has the right type of data in it.\n",
            "    \n",
            "    For negative values of `n`, this function returns all rows except\n",
            "    the last `n` rows, equivalent to ``df[:-n]``.\n",
            "    \n",
            "    Parameters\n",
            "    ----------\n",
            "    n : int, default 5\n",
            "        Number of rows to select.\n",
            "    \n",
            "    Returns\n",
            "    -------\n",
            "    same type as caller\n",
            "        The first `n` rows of the caller object.\n",
            "    \n",
            "    See Also\n",
            "    --------\n",
            "    DataFrame.tail: Returns the last `n` rows.\n",
            "    \n",
            "    Examples\n",
            "    --------\n",
            "    >>> df = pd.DataFrame({'animal': ['alligator', 'bee', 'falcon', 'lion',\n",
            "    ...                    'monkey', 'parrot', 'shark', 'whale', 'zebra']})\n",
            "    >>> df\n",
            "          animal\n",
            "    0  alligator\n",
            "    1        bee\n",
            "    2     falcon\n",
            "    3       lion\n",
            "    4     monkey\n",
            "    5     parrot\n",
            "    6      shark\n",
            "    7      whale\n",
            "    8      zebra\n",
            "    \n",
            "    Viewing the first 5 lines\n",
            "    \n",
            "    >>> df.head()\n",
            "          animal\n",
            "    0  alligator\n",
            "    1        bee\n",
            "    2     falcon\n",
            "    3       lion\n",
            "    4     monkey\n",
            "    \n",
            "    Viewing the first `n` lines (three in this case)\n",
            "    \n",
            "    >>> df.head(3)\n",
            "          animal\n",
            "    0  alligator\n",
            "    1        bee\n",
            "    2     falcon\n",
            "    \n",
            "    For negative values of `n`\n",
            "    \n",
            "    >>> df.head(-3)\n",
            "          animal\n",
            "    0  alligator\n",
            "    1        bee\n",
            "    2     falcon\n",
            "    3       lion\n",
            "    4     monkey\n",
            "    5     parrot\n",
            "\n"
          ]
        }
      ]
    },
    {
      "cell_type": "code",
      "metadata": {
        "colab": {
          "base_uri": "https://localhost:8080/",
          "height": 312
        },
        "id": "JobthA0Qvc4P",
        "outputId": "ba928a32-778e-40ea-8cb5-b797a93446fc"
      },
      "source": [
        "# plot\n",
        "import matplotlib.pyplot as plt\n",
        "data[\"Adj Close\"].plot()\n",
        "plt.xlabel(\"Date/time\")\n",
        "plt.ylabel(\"Adj. Close\")\n",
        "plt.title(\"Google Stock Price\")"
      ],
      "id": "JobthA0Qvc4P",
      "execution_count": 7,
      "outputs": [
        {
          "output_type": "execute_result",
          "data": {
            "text/plain": [
              "Text(0.5, 1.0, 'Google Stock Price')"
            ]
          },
          "metadata": {},
          "execution_count": 7
        },
        {
          "output_type": "display_data",
          "data": {
            "image/png": "[encoded data removed]",
            "text/plain": [
              "<Figure size 432x288 with 1 Axes>"
            ]
          },
          "metadata": {
            "needs_background": "light"
          }
        }
      ]
    }
  ]
}