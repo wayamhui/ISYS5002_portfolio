{
  "nbformat": 4,
  "nbformat_minor": 0,
  "metadata": {
    "colab": {
      "name": "sql_shell.ipynb",
      "provenance": [],
      "include_colab_link": true
    },
    "kernelspec": {
      "name": "python3",
      "display_name": "Python 3"
    },
    "language_info": {
      "name": "python"
    }
  },
  "cells": [
    {
      "cell_type": "markdown",
      "metadata": {
        "id": "view-in-github",
        "colab_type": "text"
      },
      "source": [
        "<a href=\"https://colab.research.google.com/github/wayamhui/ISYS5002_portfolio/blob/main/sql_shell.ipynb\" target=\"_parent\"><img src=\"https://colab.research.google.com/assets/colab-badge.svg\" alt=\"Open In Colab\"/></a>"
      ]
    },
    {
      "cell_type": "markdown",
      "metadata": {
        "id": "mbsVgk4dW_nz"
      },
      "source": [
        "#SQL via Python\n",
        "\n",
        "In this notebook we discuss all the CRUD operations on a SQLite 3 database in Python.\n",
        "\n",
        "We assume some basic understanding ot SQL\n",
        "\n",
        "## Import the library"
      ]
    },
    {
      "cell_type": "code",
      "metadata": {
        "id": "LPimUgLJW-zI"
      },
      "source": [
        "import sqlite3"
      ],
      "execution_count": 1,
      "outputs": []
    },
    {
      "cell_type": "markdown",
      "metadata": {
        "id": "Hw8dIXJ-XmD3"
      },
      "source": [
        "## Create a connection\n",
        "\n",
        "We use the connect method and pass the name of the database"
      ]
    },
    {
      "cell_type": "code",
      "metadata": {
        "id": "mrad4SnyXxgQ"
      },
      "source": [
        "conn = sqlite3.connect(\"mytest.db\")"
      ],
      "execution_count": 2,
      "outputs": []
    },
    {
      "cell_type": "markdown",
      "metadata": {
        "id": "mejA7Nv4XyPH"
      },
      "source": [
        "## Create a cursor object\n",
        "\n",
        "A cursor acts a middleware between a connection and SQL query"
      ]
    },
    {
      "cell_type": "code",
      "metadata": {
        "id": "ZTlVz29LYR9b"
      },
      "source": [
        "cursor = conn.cursor()"
      ],
      "execution_count": 3,
      "outputs": []
    },
    {
      "cell_type": "markdown",
      "metadata": {
        "id": "Sn6PJmYtYdWr"
      },
      "source": [
        "# Create Table\n",
        "\n",
        "Use a common 'pattern'\n",
        "\n",
        "1. Create a SQL command as a string\n",
        "2. User cursor to execture the command\n",
        "3. If needed fetch the results"
      ]
    },
    {
      "cell_type": "code",
      "metadata": {
        "id": "SIGT5zH0Ykd4"
      },
      "source": [
        "query = \"\"\"\n",
        "  CREATE TABLE USER (\n",
        "            id INTEGER NOT NULL PRIMARY KEY AUTOINCREMENT,\n",
        "            name TEXT,\n",
        "            age INTEGER\n",
        "        );\n",
        "\"\"\""
      ],
      "execution_count": 4,
      "outputs": []
    },
    {
      "cell_type": "code",
      "metadata": {
        "id": "xuIEUIhRR-GK",
        "colab": {
          "base_uri": "https://localhost:8080/"
        },
        "outputId": "c257894c-71fa-4495-97f6-fdff23ace0ca"
      },
      "source": [
        "cursor.execute(query)"
      ],
      "execution_count": 5,
      "outputs": [
        {
          "output_type": "execute_result",
          "data": {
            "text/plain": [
              "<sqlite3.Cursor at 0x7fd0959e0c70>"
            ]
          },
          "metadata": {},
          "execution_count": 5
        }
      ]
    },
    {
      "cell_type": "markdown",
      "metadata": {
        "id": "pn3Pj3hlYsBK"
      },
      "source": [
        "# Insert into Table"
      ]
    },
    {
      "cell_type": "code",
      "metadata": {
        "id": "sDDF56NqYy1D"
      },
      "source": [
        "# query = \"INSERT INTO user VALUES (1, 'Kim', 21);\"\n",
        "query = \"INSERT INTO user VALUES (0, 'Michael', 21);\""
      ],
      "execution_count": 47,
      "outputs": []
    },
    {
      "cell_type": "code",
      "metadata": {
        "id": "dKkHLZe8TF_L",
        "colab": {
          "base_uri": "https://localhost:8080/"
        },
        "outputId": "ead28f27-01d8-4539-e241-011ec0fca7d1"
      },
      "source": [
        "cursor.execute(query)"
      ],
      "execution_count": 48,
      "outputs": [
        {
          "output_type": "execute_result",
          "data": {
            "text/plain": [
              "<sqlite3.Cursor at 0x7fd0959e0c70>"
            ]
          },
          "metadata": {},
          "execution_count": 48
        }
      ]
    },
    {
      "cell_type": "markdown",
      "metadata": {
        "id": "0q9-ZbAHY30U"
      },
      "source": [
        "## Fetching Data"
      ]
    },
    {
      "cell_type": "code",
      "metadata": {
        "id": "6fft_Fo-Y6TM",
        "colab": {
          "base_uri": "https://localhost:8080/"
        },
        "outputId": "53eb439d-0600-48ec-f1d9-8970a4020197"
      },
      "source": [
        "query = \"SELECT * FROM user;\"\n",
        "\n",
        "cursor.execute(query)"
      ],
      "execution_count": 37,
      "outputs": [
        {
          "output_type": "execute_result",
          "data": {
            "text/plain": [
              "<sqlite3.Cursor at 0x7fd0959e0c70>"
            ]
          },
          "metadata": {},
          "execution_count": 37
        }
      ]
    },
    {
      "cell_type": "code",
      "metadata": {
        "id": "nEl6VMWoTfZ-",
        "colab": {
          "base_uri": "https://localhost:8080/"
        },
        "outputId": "b7665fd1-9e98-4de5-b4e1-2dea55f04293"
      },
      "source": [
        "result = cursor.fetchall()\n",
        "print(result[0])\n",
        "result[1]"
      ],
      "execution_count": 38,
      "outputs": [
        {
          "output_type": "stream",
          "name": "stdout",
          "text": [
            "(0, 'Michael', 21)\n"
          ]
        },
        {
          "output_type": "execute_result",
          "data": {
            "text/plain": [
              "(1, 'Kim', 21)"
            ]
          },
          "metadata": {},
          "execution_count": 38
        }
      ]
    },
    {
      "cell_type": "markdown",
      "metadata": {
        "id": "CMhqzLZbY8r-"
      },
      "source": [
        "## Updating Data"
      ]
    },
    {
      "cell_type": "code",
      "metadata": {
        "id": "ZYniV-zoTd-z"
      },
      "source": [
        "query = \"\"\"\n",
        "UPDATE user SET name = \"Batman\" WHERE name = 'Michael';\n",
        "\"\"\""
      ],
      "execution_count": 39,
      "outputs": []
    },
    {
      "cell_type": "code",
      "metadata": {
        "id": "ojzfQW6vY_uX",
        "colab": {
          "base_uri": "https://localhost:8080/"
        },
        "outputId": "41367922-ba36-47bc-8c29-c0fe88c50d19"
      },
      "source": [
        "conn.execute(query)"
      ],
      "execution_count": 40,
      "outputs": [
        {
          "output_type": "execute_result",
          "data": {
            "text/plain": [
              "<sqlite3.Cursor at 0x7fd08dda3c00>"
            ]
          },
          "metadata": {},
          "execution_count": 40
        }
      ]
    },
    {
      "cell_type": "code",
      "metadata": {
        "id": "x0TCc-nsUi07",
        "colab": {
          "base_uri": "https://localhost:8080/"
        },
        "outputId": "39d6060f-fb7b-43fc-bd4f-d4e3f48975c1"
      },
      "source": [
        "query = \"SELECT * FROM user;\"\n",
        "cursor.execute(query)\n",
        "result = cursor.fetchall()\n",
        "result"
      ],
      "execution_count": 41,
      "outputs": [
        {
          "output_type": "execute_result",
          "data": {
            "text/plain": [
              "[(0, 'Batman', 21), (1, 'Kim', 21)]"
            ]
          },
          "metadata": {},
          "execution_count": 41
        }
      ]
    },
    {
      "cell_type": "markdown",
      "metadata": {
        "id": "-tk5M9E9ZBPO"
      },
      "source": [
        "## Delete Data"
      ]
    },
    {
      "cell_type": "code",
      "metadata": {
        "id": "VI52gWODZCsF",
        "colab": {
          "base_uri": "https://localhost:8080/"
        },
        "outputId": "3d8c7154-503d-420e-8c13-c45364abee18"
      },
      "source": [
        "query = \"\"\"\n",
        "DELETE FROM user WHERE name = 'Batman';\n",
        "\"\"\"\n",
        "conn.execute(query)\n",
        "query = \"SELECT * FROM user;\"\n",
        "cursor.execute(query)\n",
        "result = cursor.fetchall()\n",
        "result"
      ],
      "execution_count": 51,
      "outputs": [
        {
          "output_type": "execute_result",
          "data": {
            "text/plain": [
              "[(0, 'Michael', 21), (1, 'Kim', 21)]"
            ]
          },
          "metadata": {},
          "execution_count": 51
        }
      ]
    },
    {
      "cell_type": "markdown",
      "metadata": {
        "id": "ZqFcuamRZJ9W"
      },
      "source": [
        "## View Schema"
      ]
    },
    {
      "cell_type": "code",
      "metadata": {
        "id": "1Ovfl-_OZOPk",
        "colab": {
          "base_uri": "https://localhost:8080/"
        },
        "outputId": "f3d8d616-0c8e-429f-8cd4-9f3b853547ef"
      },
      "source": [
        "query = \"SELECT name FROM sqlite_master WHERE type = 'table';\"\n",
        "cursor.execute(query)\n",
        "result = cursor.fetchall()\n",
        "result"
      ],
      "execution_count": 52,
      "outputs": [
        {
          "output_type": "execute_result",
          "data": {
            "text/plain": [
              "[('USER',), ('sqlite_sequence',)]"
            ]
          },
          "metadata": {},
          "execution_count": 52
        }
      ]
    },
    {
      "cell_type": "code",
      "metadata": {
        "id": "B6-fiF01VuIi",
        "colab": {
          "base_uri": "https://localhost:8080/"
        },
        "outputId": "f73ab97c-f267-44fe-a536-bd6f57583665"
      },
      "source": [
        "def get_tables(cursor):\n",
        "  query = \"SELECT name FROM sqlite_master WHERE type = 'table';\"\n",
        "  cursor.execute(query)\n",
        "  result = cursor.fetchall()\n",
        "\n",
        "  tables = []\n",
        "  for item in result:\n",
        "    tables.append(item[0])\n",
        "\n",
        "  return(tables)\n",
        "\n",
        "get_tables(cursor)"
      ],
      "execution_count": 53,
      "outputs": [
        {
          "output_type": "execute_result",
          "data": {
            "text/plain": [
              "['USER', 'sqlite_sequence']"
            ]
          },
          "metadata": {},
          "execution_count": 53
        }
      ]
    },
    {
      "cell_type": "code",
      "metadata": {
        "id": "4A69GZERWdnh",
        "colab": {
          "base_uri": "https://localhost:8080/"
        },
        "outputId": "d5d70f18-20a9-4f24-a619-e7de48b8cb23"
      },
      "source": [
        "for table in get_tables(cursor):\n",
        "  cursor.execute(\"PRAGMA table_info('%s')\" % table)\n",
        "  result = cursor.fetchall()\n",
        "  print(table + \":\" + str(result) + '\\n')  # \\n is new line\n",
        "\n",
        "# in the output ...1, None, 1: primary key, NotNull, auto-increment"
      ],
      "execution_count": 54,
      "outputs": [
        {
          "output_type": "stream",
          "name": "stdout",
          "text": [
            "USER:[(0, 'id', 'INTEGER', 1, None, 1), (1, 'name', 'TEXT', 0, None, 0), (2, 'age', 'INTEGER', 0, None, 0)]\n",
            "\n",
            "sqlite_sequence:[(0, 'name', '', 0, None, 0), (1, 'seq', '', 0, None, 0)]\n",
            "\n"
          ]
        }
      ]
    },
    {
      "cell_type": "markdown",
      "metadata": {
        "id": "-ldwT9WyZE-2"
      },
      "source": [
        "## Delete Table"
      ]
    },
    {
      "cell_type": "code",
      "metadata": {
        "id": "cyFWke0AZHI-"
      },
      "source": [
        ""
      ],
      "execution_count": null,
      "outputs": []
    }
  ]
}