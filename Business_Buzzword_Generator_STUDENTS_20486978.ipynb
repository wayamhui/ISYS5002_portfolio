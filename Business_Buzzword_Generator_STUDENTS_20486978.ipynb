{
  "nbformat": 4,
  "nbformat_minor": 5,
  "metadata": {
    "kernelspec": {
      "display_name": "Python 3 (ipykernel)",
      "language": "python",
      "name": "python3"
    },
    "language_info": {
      "codemirror_mode": {
        "name": "ipython",
        "version": 3
      },
      "file_extension": ".py",
      "mimetype": "text/x-python",
      "name": "python",
      "nbconvert_exporter": "python",
      "pygments_lexer": "ipython3",
      "version": "3.9.6"
    },
    "colab": {
      "name": "Business_Buzzword Generator_STUDENTS.ipynb",
      "provenance": [],
      "include_colab_link": true
    }
  },
  "cells": [
    {
      "cell_type": "markdown",
      "metadata": {
        "id": "view-in-github",
        "colab_type": "text"
      },
      "source": [
        "<a href=\"https://colab.research.google.com/github/wayamhui/ISYS5002_portfolio/blob/main/Business_Buzzword_Generator_STUDENTS_20486978.ipynb\" target=\"_parent\"><img src=\"https://colab.research.google.com/assets/colab-badge.svg\" alt=\"Open In Colab\"/></a>"
      ]
    },
    {
      "cell_type": "markdown",
      "metadata": {
        "id": "f8b21259-c1a0-4ecb-a02f-e35565841067"
      },
      "source": [
        "# Business Buzzword Generator\n",
        "\n",
        "Lets write a real-world business application using Python.   Want to write a program to genrate business phrases.  The program takes three lists of words, randomly picks one word from each list, combines the words into a phrase, and then prints out the phrase. Here is the psuedocode:\n",
        "\n",
        "    importing the random module\n",
        "    make three lists, one of buzzword, one of actions, and one of outcomes\n",
        "    randomly choose one buzzword, action, and outcome from each list\n",
        "    now build the phrase by \"adding\" the words together\n",
        "    output the phrase\n",
        "    \n",
        "A good use of pseudocode is each line becomes comments in the code. Each line of pseudo code has been pasted into a cell below.  Try to implement each as python statement or statements."
      ],
      "id": "f8b21259-c1a0-4ecb-a02f-e35565841067"
    },
    {
      "cell_type": "code",
      "metadata": {
        "colab": {
          "base_uri": "https://localhost:8080/"
        },
        "id": "6b9a2fc6-f8ae-4778-a5e7-9659136091fd",
        "outputId": "e9f263a8-e5f0-4bf2-d6e8-9d084449a86c"
      },
      "source": [
        "# importing the random module\n",
        "import random\n",
        "help(random.choice)"
      ],
      "id": "6b9a2fc6-f8ae-4778-a5e7-9659136091fd",
      "execution_count": 1,
      "outputs": [
        {
          "output_type": "stream",
          "name": "stdout",
          "text": [
            "Help on method choice in module random:\n",
            "\n",
            "choice(seq) method of random.Random instance\n",
            "    Choose a random element from a non-empty sequence.\n",
            "\n"
          ]
        }
      ]
    },
    {
      "cell_type": "code",
      "metadata": {
        "colab": {
          "base_uri": "https://localhost:8080/"
        },
        "id": "pNiUi-GeBsZL",
        "outputId": "c2ace085-d168-4715-f6aa-361dd59c5b86"
      },
      "source": [
        "!pip install SpeechRecognition"
      ],
      "id": "pNiUi-GeBsZL",
      "execution_count": 2,
      "outputs": [
        {
          "output_type": "stream",
          "name": "stdout",
          "text": [
            "Requirement already satisfied: SpeechRecognition in /usr/local/lib/python3.7/dist-packages (3.8.1)\n"
          ]
        }
      ]
    },
    {
      "cell_type": "code",
      "metadata": {
        "id": "DcUD57GeB7j6"
      },
      "source": [
        "import speech_recognition "
      ],
      "id": "DcUD57GeB7j6",
      "execution_count": 3,
      "outputs": []
    },
    {
      "cell_type": "code",
      "metadata": {
        "id": "wDToO21kmP7M",
        "colab": {
          "base_uri": "https://localhost:8080/"
        },
        "outputId": "9a75ab8b-2513-4d29-a897-2d9222279738"
      },
      "source": [
        "# test pip install\n",
        "!pip install streamlit"
      ],
      "id": "wDToO21kmP7M",
      "execution_count": 4,
      "outputs": [
        {
          "output_type": "stream",
          "name": "stdout",
          "text": [
            "Requirement already satisfied: streamlit in /usr/local/lib/python3.7/dist-packages (1.0.0)\n",
            "Requirement already satisfied: pillow>=6.2.0 in /usr/local/lib/python3.7/dist-packages (from streamlit) (7.1.2)\n",
            "Requirement already satisfied: astor in /usr/local/lib/python3.7/dist-packages (from streamlit) (0.8.1)\n",
            "Requirement already satisfied: attrs in /usr/local/lib/python3.7/dist-packages (from streamlit) (21.2.0)\n",
            "Requirement already satisfied: protobuf!=3.11,>=3.6.0 in /usr/local/lib/python3.7/dist-packages (from streamlit) (3.17.3)\n",
            "Requirement already satisfied: altair>=3.2.0 in /usr/local/lib/python3.7/dist-packages (from streamlit) (4.1.0)\n",
            "Requirement already satisfied: python-dateutil in /usr/local/lib/python3.7/dist-packages (from streamlit) (2.8.2)\n",
            "Requirement already satisfied: requests in /usr/local/lib/python3.7/dist-packages (from streamlit) (2.23.0)\n",
            "Requirement already satisfied: click<8.0,>=7.0 in /usr/local/lib/python3.7/dist-packages (from streamlit) (7.1.2)\n",
            "Requirement already satisfied: tornado>=5.0 in /usr/local/lib/python3.7/dist-packages (from streamlit) (5.1.1)\n",
            "Requirement already satisfied: pandas>=0.21.0 in /usr/local/lib/python3.7/dist-packages (from streamlit) (1.1.5)\n",
            "Requirement already satisfied: validators in /usr/local/lib/python3.7/dist-packages (from streamlit) (0.18.2)\n",
            "Requirement already satisfied: blinker in /usr/local/lib/python3.7/dist-packages (from streamlit) (1.4)\n",
            "Requirement already satisfied: base58 in /usr/local/lib/python3.7/dist-packages (from streamlit) (2.1.0)\n",
            "Requirement already satisfied: numpy in /usr/local/lib/python3.7/dist-packages (from streamlit) (1.19.5)\n",
            "Requirement already satisfied: pydeck>=0.1.dev5 in /usr/local/lib/python3.7/dist-packages (from streamlit) (0.7.0)\n",
            "Requirement already satisfied: packaging in /usr/local/lib/python3.7/dist-packages (from streamlit) (21.0)\n",
            "Requirement already satisfied: cachetools>=4.0 in /usr/local/lib/python3.7/dist-packages (from streamlit) (4.2.4)\n",
            "Requirement already satisfied: tzlocal in /usr/local/lib/python3.7/dist-packages (from streamlit) (1.5.1)\n",
            "Requirement already satisfied: gitpython!=3.1.19 in /usr/local/lib/python3.7/dist-packages (from streamlit) (3.1.24)\n",
            "Requirement already satisfied: toml in /usr/local/lib/python3.7/dist-packages (from streamlit) (0.10.2)\n",
            "Requirement already satisfied: watchdog in /usr/local/lib/python3.7/dist-packages (from streamlit) (2.1.6)\n",
            "Requirement already satisfied: pyarrow in /usr/local/lib/python3.7/dist-packages (from streamlit) (3.0.0)\n",
            "Requirement already satisfied: entrypoints in /usr/local/lib/python3.7/dist-packages (from altair>=3.2.0->streamlit) (0.3)\n",
            "Requirement already satisfied: toolz in /usr/local/lib/python3.7/dist-packages (from altair>=3.2.0->streamlit) (0.11.1)\n",
            "Requirement already satisfied: jsonschema in /usr/local/lib/python3.7/dist-packages (from altair>=3.2.0->streamlit) (2.6.0)\n",
            "Requirement already satisfied: jinja2 in /usr/local/lib/python3.7/dist-packages (from altair>=3.2.0->streamlit) (2.11.3)\n",
            "Requirement already satisfied: gitdb<5,>=4.0.1 in /usr/local/lib/python3.7/dist-packages (from gitpython!=3.1.19->streamlit) (4.0.7)\n",
            "Requirement already satisfied: typing-extensions>=3.7.4.3 in /usr/local/lib/python3.7/dist-packages (from gitpython!=3.1.19->streamlit) (3.7.4.3)\n",
            "Requirement already satisfied: smmap<5,>=3.0.1 in /usr/local/lib/python3.7/dist-packages (from gitdb<5,>=4.0.1->gitpython!=3.1.19->streamlit) (4.0.0)\n",
            "Requirement already satisfied: pytz>=2017.2 in /usr/local/lib/python3.7/dist-packages (from pandas>=0.21.0->streamlit) (2018.9)\n",
            "Requirement already satisfied: six>=1.9 in /usr/local/lib/python3.7/dist-packages (from protobuf!=3.11,>=3.6.0->streamlit) (1.15.0)\n",
            "Requirement already satisfied: ipywidgets>=7.0.0 in /usr/local/lib/python3.7/dist-packages (from pydeck>=0.1.dev5->streamlit) (7.6.5)\n",
            "Requirement already satisfied: traitlets>=4.3.2 in /usr/local/lib/python3.7/dist-packages (from pydeck>=0.1.dev5->streamlit) (5.1.0)\n",
            "Requirement already satisfied: ipykernel>=5.1.2 in /usr/local/lib/python3.7/dist-packages (from pydeck>=0.1.dev5->streamlit) (6.4.1)\n",
            "Requirement already satisfied: matplotlib-inline<0.2.0,>=0.1.0 in /usr/local/lib/python3.7/dist-packages (from ipykernel>=5.1.2->pydeck>=0.1.dev5->streamlit) (0.1.3)\n",
            "Requirement already satisfied: jupyter-client<8.0 in /usr/local/lib/python3.7/dist-packages (from ipykernel>=5.1.2->pydeck>=0.1.dev5->streamlit) (5.3.5)\n",
            "Requirement already satisfied: importlib-metadata<5 in /usr/local/lib/python3.7/dist-packages (from ipykernel>=5.1.2->pydeck>=0.1.dev5->streamlit) (4.8.1)\n",
            "Requirement already satisfied: ipython-genutils in /usr/local/lib/python3.7/dist-packages (from ipykernel>=5.1.2->pydeck>=0.1.dev5->streamlit) (0.2.0)\n",
            "Requirement already satisfied: debugpy<2.0,>=1.0.0 in /usr/local/lib/python3.7/dist-packages (from ipykernel>=5.1.2->pydeck>=0.1.dev5->streamlit) (1.0.0)\n",
            "Requirement already satisfied: ipython<8.0,>=7.23.1 in /usr/local/lib/python3.7/dist-packages (from ipykernel>=5.1.2->pydeck>=0.1.dev5->streamlit) (7.28.0)\n",
            "Requirement already satisfied: argcomplete>=1.12.3 in /usr/local/lib/python3.7/dist-packages (from ipykernel>=5.1.2->pydeck>=0.1.dev5->streamlit) (1.12.3)\n",
            "Requirement already satisfied: zipp>=0.5 in /usr/local/lib/python3.7/dist-packages (from importlib-metadata<5->ipykernel>=5.1.2->pydeck>=0.1.dev5->streamlit) (3.6.0)\n",
            "Requirement already satisfied: pexpect>4.3 in /usr/local/lib/python3.7/dist-packages (from ipython<8.0,>=7.23.1->ipykernel>=5.1.2->pydeck>=0.1.dev5->streamlit) (4.8.0)\n",
            "Requirement already satisfied: backcall in /usr/local/lib/python3.7/dist-packages (from ipython<8.0,>=7.23.1->ipykernel>=5.1.2->pydeck>=0.1.dev5->streamlit) (0.2.0)\n",
            "Requirement already satisfied: jedi>=0.16 in /usr/local/lib/python3.7/dist-packages (from ipython<8.0,>=7.23.1->ipykernel>=5.1.2->pydeck>=0.1.dev5->streamlit) (0.18.0)\n",
            "Requirement already satisfied: prompt-toolkit!=3.0.0,!=3.0.1,<3.1.0,>=2.0.0 in /usr/local/lib/python3.7/dist-packages (from ipython<8.0,>=7.23.1->ipykernel>=5.1.2->pydeck>=0.1.dev5->streamlit) (3.0.20)\n",
            "Requirement already satisfied: setuptools>=18.5 in /usr/local/lib/python3.7/dist-packages (from ipython<8.0,>=7.23.1->ipykernel>=5.1.2->pydeck>=0.1.dev5->streamlit) (57.4.0)\n",
            "Requirement already satisfied: pygments in /usr/local/lib/python3.7/dist-packages (from ipython<8.0,>=7.23.1->ipykernel>=5.1.2->pydeck>=0.1.dev5->streamlit) (2.6.1)\n",
            "Requirement already satisfied: decorator in /usr/local/lib/python3.7/dist-packages (from ipython<8.0,>=7.23.1->ipykernel>=5.1.2->pydeck>=0.1.dev5->streamlit) (4.4.2)\n",
            "Requirement already satisfied: pickleshare in /usr/local/lib/python3.7/dist-packages (from ipython<8.0,>=7.23.1->ipykernel>=5.1.2->pydeck>=0.1.dev5->streamlit) (0.7.5)\n",
            "Requirement already satisfied: nbformat>=4.2.0 in /usr/local/lib/python3.7/dist-packages (from ipywidgets>=7.0.0->pydeck>=0.1.dev5->streamlit) (5.1.3)\n",
            "Requirement already satisfied: widgetsnbextension~=3.5.0 in /usr/local/lib/python3.7/dist-packages (from ipywidgets>=7.0.0->pydeck>=0.1.dev5->streamlit) (3.5.1)\n",
            "Requirement already satisfied: jupyterlab-widgets>=1.0.0 in /usr/local/lib/python3.7/dist-packages (from ipywidgets>=7.0.0->pydeck>=0.1.dev5->streamlit) (1.0.2)\n",
            "Requirement already satisfied: parso<0.9.0,>=0.8.0 in /usr/local/lib/python3.7/dist-packages (from jedi>=0.16->ipython<8.0,>=7.23.1->ipykernel>=5.1.2->pydeck>=0.1.dev5->streamlit) (0.8.2)\n",
            "Requirement already satisfied: MarkupSafe>=0.23 in /usr/local/lib/python3.7/dist-packages (from jinja2->altair>=3.2.0->streamlit) (2.0.1)\n",
            "Requirement already satisfied: jupyter-core>=4.6.0 in /usr/local/lib/python3.7/dist-packages (from jupyter-client<8.0->ipykernel>=5.1.2->pydeck>=0.1.dev5->streamlit) (4.8.1)\n",
            "Requirement already satisfied: pyzmq>=13 in /usr/local/lib/python3.7/dist-packages (from jupyter-client<8.0->ipykernel>=5.1.2->pydeck>=0.1.dev5->streamlit) (22.3.0)\n",
            "Requirement already satisfied: ptyprocess>=0.5 in /usr/local/lib/python3.7/dist-packages (from pexpect>4.3->ipython<8.0,>=7.23.1->ipykernel>=5.1.2->pydeck>=0.1.dev5->streamlit) (0.7.0)\n",
            "Requirement already satisfied: wcwidth in /usr/local/lib/python3.7/dist-packages (from prompt-toolkit!=3.0.0,!=3.0.1,<3.1.0,>=2.0.0->ipython<8.0,>=7.23.1->ipykernel>=5.1.2->pydeck>=0.1.dev5->streamlit) (0.2.5)\n",
            "Requirement already satisfied: notebook>=4.4.1 in /usr/local/lib/python3.7/dist-packages (from widgetsnbextension~=3.5.0->ipywidgets>=7.0.0->pydeck>=0.1.dev5->streamlit) (5.3.1)\n",
            "Requirement already satisfied: terminado>=0.8.1 in /usr/local/lib/python3.7/dist-packages (from notebook>=4.4.1->widgetsnbextension~=3.5.0->ipywidgets>=7.0.0->pydeck>=0.1.dev5->streamlit) (0.12.1)\n",
            "Requirement already satisfied: Send2Trash in /usr/local/lib/python3.7/dist-packages (from notebook>=4.4.1->widgetsnbextension~=3.5.0->ipywidgets>=7.0.0->pydeck>=0.1.dev5->streamlit) (1.8.0)\n",
            "Requirement already satisfied: nbconvert in /usr/local/lib/python3.7/dist-packages (from notebook>=4.4.1->widgetsnbextension~=3.5.0->ipywidgets>=7.0.0->pydeck>=0.1.dev5->streamlit) (5.6.1)\n",
            "Requirement already satisfied: bleach in /usr/local/lib/python3.7/dist-packages (from nbconvert->notebook>=4.4.1->widgetsnbextension~=3.5.0->ipywidgets>=7.0.0->pydeck>=0.1.dev5->streamlit) (4.1.0)\n",
            "Requirement already satisfied: testpath in /usr/local/lib/python3.7/dist-packages (from nbconvert->notebook>=4.4.1->widgetsnbextension~=3.5.0->ipywidgets>=7.0.0->pydeck>=0.1.dev5->streamlit) (0.5.0)\n",
            "Requirement already satisfied: pandocfilters>=1.4.1 in /usr/local/lib/python3.7/dist-packages (from nbconvert->notebook>=4.4.1->widgetsnbextension~=3.5.0->ipywidgets>=7.0.0->pydeck>=0.1.dev5->streamlit) (1.5.0)\n",
            "Requirement already satisfied: defusedxml in /usr/local/lib/python3.7/dist-packages (from nbconvert->notebook>=4.4.1->widgetsnbextension~=3.5.0->ipywidgets>=7.0.0->pydeck>=0.1.dev5->streamlit) (0.7.1)\n",
            "Requirement already satisfied: mistune<2,>=0.8.1 in /usr/local/lib/python3.7/dist-packages (from nbconvert->notebook>=4.4.1->widgetsnbextension~=3.5.0->ipywidgets>=7.0.0->pydeck>=0.1.dev5->streamlit) (0.8.4)\n",
            "Requirement already satisfied: webencodings in /usr/local/lib/python3.7/dist-packages (from bleach->nbconvert->notebook>=4.4.1->widgetsnbextension~=3.5.0->ipywidgets>=7.0.0->pydeck>=0.1.dev5->streamlit) (0.5.1)\n",
            "Requirement already satisfied: pyparsing>=2.0.2 in /usr/local/lib/python3.7/dist-packages (from packaging->streamlit) (2.4.7)\n",
            "Requirement already satisfied: urllib3!=1.25.0,!=1.25.1,<1.26,>=1.21.1 in /usr/local/lib/python3.7/dist-packages (from requests->streamlit) (1.24.3)\n",
            "Requirement already satisfied: chardet<4,>=3.0.2 in /usr/local/lib/python3.7/dist-packages (from requests->streamlit) (3.0.4)\n",
            "Requirement already satisfied: idna<3,>=2.5 in /usr/local/lib/python3.7/dist-packages (from requests->streamlit) (2.10)\n",
            "Requirement already satisfied: certifi>=2017.4.17 in /usr/local/lib/python3.7/dist-packages (from requests->streamlit) (2021.5.30)\n"
          ]
        }
      ]
    },
    {
      "cell_type": "code",
      "metadata": {
        "id": "7F9Q_0Wmm_HO"
      },
      "source": [
        "import streamlit\n"
      ],
      "id": "7F9Q_0Wmm_HO",
      "execution_count": 5,
      "outputs": []
    },
    {
      "cell_type": "code",
      "metadata": {
        "colab": {
          "base_uri": "https://localhost:8080/"
        },
        "id": "_KV4hD5pD3GG",
        "outputId": "36471c70-9d2a-480a-e04b-8c29e328a203"
      },
      "source": [
        "dir(streamlit)"
      ],
      "id": "_KV4hD5pD3GG",
      "execution_count": 6,
      "outputs": [
        {
          "output_type": "execute_result",
          "data": {
            "text/plain": [
              "['LazySessionState',\n",
              " 'List',\n",
              " 'RootContainer',\n",
              " 'SECRETS_FILE_LOC',\n",
              " 'Secrets',\n",
              " 'StopException',\n",
              " 'StreamlitAPIException',\n",
              " '_DeltaGenerator',\n",
              " '_ForwardMsg_pb2',\n",
              " '_LOGGER',\n",
              " '_RerunData',\n",
              " '_RerunException',\n",
              " '_SPACES_RE',\n",
              " '__builtins__',\n",
              " '__cached__',\n",
              " '__doc__',\n",
              " '__file__',\n",
              " '__loader__',\n",
              " '__name__',\n",
              " '__package__',\n",
              " '__path__',\n",
              " '__spec__',\n",
              " '__version__',\n",
              " '_add_report_ctx',\n",
              " '_arrow_altair_chart',\n",
              " '_arrow_area_chart',\n",
              " '_arrow_bar_chart',\n",
              " '_arrow_dataframe',\n",
              " '_arrow_line_chart',\n",
              " '_arrow_table',\n",
              " '_arrow_vega_lite_chart',\n",
              " '_click',\n",
              " '_code_util',\n",
              " '_config',\n",
              " '_contextlib',\n",
              " '_env_util',\n",
              " '_get_report_ctx',\n",
              " '_is_running_with_streamlit',\n",
              " '_legacy_altair_chart',\n",
              " '_legacy_area_chart',\n",
              " '_legacy_bar_chart',\n",
              " '_legacy_dataframe',\n",
              " '_legacy_line_chart',\n",
              " '_legacy_table',\n",
              " '_legacy_vega_lite_chart',\n",
              " '_logger',\n",
              " '_main',\n",
              " '_maybe_print_use_warning',\n",
              " '_parse',\n",
              " '_pkg_resources',\n",
              " '_re',\n",
              " '_source_util',\n",
              " '_string_util',\n",
              " '_sys',\n",
              " '_textwrap',\n",
              " '_threading',\n",
              " '_traceback',\n",
              " '_transparent_write',\n",
              " '_update_logger',\n",
              " '_use_warning_has_been_displayed',\n",
              " 'altair_chart',\n",
              " 'area_chart',\n",
              " 'audio',\n",
              " 'balloons',\n",
              " 'bar_chart',\n",
              " 'beta_columns',\n",
              " 'beta_container',\n",
              " 'beta_expander',\n",
              " 'beta_util',\n",
              " 'bokeh_chart',\n",
              " 'button',\n",
              " 'cache',\n",
              " 'caching',\n",
              " 'caption',\n",
              " 'checkbox',\n",
              " 'code',\n",
              " 'code_util',\n",
              " 'color_picker',\n",
              " 'columns',\n",
              " 'commands',\n",
              " 'config',\n",
              " 'config_option',\n",
              " 'config_util',\n",
              " 'container',\n",
              " 'cursor',\n",
              " 'dataframe',\n",
              " 'date_input',\n",
              " 'delta_generator',\n",
              " 'development',\n",
              " 'download_button',\n",
              " 'echo',\n",
              " 'elements',\n",
              " 'empty',\n",
              " 'env_util',\n",
              " 'error',\n",
              " 'error_util',\n",
              " 'errors',\n",
              " 'exception',\n",
              " 'expander',\n",
              " 'experimental_get_query_params',\n",
              " 'experimental_memo',\n",
              " 'experimental_rerun',\n",
              " 'experimental_set_query_params',\n",
              " 'experimental_show',\n",
              " 'experimental_singleton',\n",
              " 'file_uploader',\n",
              " 'file_util',\n",
              " 'folder_black_list',\n",
              " 'form',\n",
              " 'form_submit_button',\n",
              " 'get_option',\n",
              " 'graphviz_chart',\n",
              " 'header',\n",
              " 'help',\n",
              " 'image',\n",
              " 'in_memory_file_manager',\n",
              " 'info',\n",
              " 'js_number',\n",
              " 'json',\n",
              " 'latex',\n",
              " 'legacy_caching',\n",
              " 'line_chart',\n",
              " 'logger',\n",
              " 'magic',\n",
              " 'map',\n",
              " 'markdown',\n",
              " 'metric',\n",
              " 'multiselect',\n",
              " 'number_input',\n",
              " 'plotly_chart',\n",
              " 'progress',\n",
              " 'proto',\n",
              " 'pydeck_chart',\n",
              " 'pyplot',\n",
              " 'radio',\n",
              " 'report_thread',\n",
              " 'script_request_queue',\n",
              " 'script_runner',\n",
              " 'secrets',\n",
              " 'select_slider',\n",
              " 'selectbox',\n",
              " 'session_state',\n",
              " 'set_option',\n",
              " 'set_page_config',\n",
              " 'sidebar',\n",
              " 'slider',\n",
              " 'source_util',\n",
              " 'spinner',\n",
              " 'state',\n",
              " 'stop',\n",
              " 'string_util',\n",
              " 'subheader',\n",
              " 'success',\n",
              " 'table',\n",
              " 'text',\n",
              " 'text_area',\n",
              " 'text_input',\n",
              " 'time_input',\n",
              " 'title',\n",
              " 'type_util',\n",
              " 'uploaded_file_manager',\n",
              " 'util',\n",
              " 'vega_lite_chart',\n",
              " 'video',\n",
              " 'warning',\n",
              " 'watcher',\n",
              " 'write']"
            ]
          },
          "metadata": {},
          "execution_count": 6
        }
      ]
    },
    {
      "cell_type": "code",
      "metadata": {
        "id": "52db4e24-c2e3-46f2-8a96-0fece1f437f2"
      },
      "source": [
        "#  make FOUR lists, one of buzzwords, one of actions, and one of outcomes\n",
        "adverbs = ['appropriately', \n",
        "  'assertively', \n",
        "  'authoritatively', \n",
        "  'collaboratively', \n",
        "  'compellingly', \n",
        "  'competently', \n",
        "  'completely', \n",
        "  'continually', \n",
        "  'conveniently', \n",
        "  'credibly', \n",
        "  'distinctively', \n",
        "  'dramatically', \n",
        "  'dynamically', \n",
        "  'efficiently', \n",
        "  'energistically', \n",
        "  'enthusiastically', \n",
        "  'fungibly', \n",
        "  'globally', \n",
        "  'holisticly', \n",
        "  'interactively', \n",
        "  'intrinsically', \n",
        "  'monotonectally', \n",
        "  'objectively', \n",
        "  'phosfluorescently', \n",
        "  'proactively', \n",
        "  'professionally', \n",
        "  'progressively', \n",
        "  'quickly', \n",
        "  'rapidiously', \n",
        "  'seamlessly', \n",
        "  'synergistically', \n",
        "  'uniquely']"
      ],
      "id": "52db4e24-c2e3-46f2-8a96-0fece1f437f2",
      "execution_count": 7,
      "outputs": []
    },
    {
      "cell_type": "code",
      "metadata": {
        "colab": {
          "base_uri": "https://localhost:8080/"
        },
        "id": "UGgWxwoMqmDC",
        "outputId": "41810b4d-cd46-4a84-fe45-a245ce2aacc4"
      },
      "source": [
        "verbs = ['actualize', \n",
        "  'administrate', \n",
        "  'aggregate', \n",
        "  'architect', \n",
        "  'benchmark', \n",
        "  'brand', \n",
        "  'build', \n",
        "  'cloudify', \n",
        "  'communicate', \n",
        "  'conceptualize', \n",
        "  'coordinate', \n",
        "  'create', \n",
        "  'cultivate', \n",
        "  'customize', \n",
        "  'deliver', \n",
        "  'deploy', \n",
        "  'develop', \n",
        "  'dinintermediate disseminate', \n",
        "  'drive', \n",
        "  'embrace', \n",
        "  'e-enable', \n",
        "  'empower', \n",
        "  'enable', \n",
        "  'engage', \n",
        "  'engineer', \n",
        "  'enhance', \n",
        "  'envisioneer', \n",
        "  'evisculate', \n",
        "  'evolve', \n",
        "  'expedite', \n",
        "  'exploit', \n",
        "  'extend']\n",
        "\n",
        "adjectives = ['24/7', \n",
        "  '24/365', \n",
        "  'accurate', \n",
        "  'adaptive', \n",
        "  'agile', \n",
        "  'alternative', \n",
        "  'an expanded array of', \n",
        "  'B2B', \n",
        "  'B2C', \n",
        "  'backend', \n",
        "  'backward-compatible', \n",
        "  'best-of-breed', \n",
        "  'bleeding-edge', \n",
        "  'bricks-and-clicks', \n",
        "  'business', \n",
        "  'clicks-and-mortar', \n",
        "  'client-based', \n",
        "  'client-centered', \n",
        "  'client-centric', \n",
        "  'client-focused', \n",
        "  'cloud-based', \n",
        "  'cloud-centric', \n",
        "  'cloudified', \n",
        "  'collaborative', \n",
        "  'compelling', \n",
        "  'competitive', \n",
        "  'cooperative', \n",
        "  'corporate', \n",
        "  'cost effective', \n",
        "  'covalent', \n",
        "  'cross functional', \n",
        "  'cross-media']\n",
        "\n",
        "nouns = ['action items', \n",
        "  'adoption', \n",
        "  'alignments', \n",
        "  'applications', \n",
        "  'architectures', \n",
        "  'bandwidth', \n",
        "  'benefits', \n",
        "  'best practices', \n",
        "  'catalysts for change', \n",
        "  'channels', \n",
        "  'clouds', \n",
        "  'collaboration and idea-sharing', \n",
        "  'communities', \n",
        "  'content', \n",
        "  'convergence', \n",
        "  'core competencies', \n",
        "  'customer service', \n",
        "  'data', \n",
        "  'deliverables', \n",
        "  'e-business', \n",
        "  'e-commerce', \n",
        "  'e-markets', \n",
        "  'e-tailers', \n",
        "  'e-services', \n",
        "  'experiences', \n",
        "  'expertise', \n",
        "  'functionalities', \n",
        "  'fungibility', \n",
        "  'growth strategies', \n",
        "  'human capital', \n",
        "  'ideas', \n",
        "  'imperatives']\n",
        "print (nouns[10]) # test the string"
      ],
      "id": "UGgWxwoMqmDC",
      "execution_count": 8,
      "outputs": [
        {
          "output_type": "stream",
          "name": "stdout",
          "text": [
            "clouds\n"
          ]
        }
      ]
    },
    {
      "cell_type": "code",
      "metadata": {
        "id": "2538b8fa-1dc9-4bfd-84d8-6753b9a88218"
      },
      "source": [
        "# randomly choose one buzzword, action, and outcome from each list\n",
        "\n",
        "bs1 = random.choice(adverbs)\n",
        "bs2 = random.choice(verbs)\n",
        "bs3 = random.choice(adjectives)\n",
        "bs4 = random.choice(nouns)\n"
      ],
      "id": "2538b8fa-1dc9-4bfd-84d8-6753b9a88218",
      "execution_count": 9,
      "outputs": []
    },
    {
      "cell_type": "code",
      "metadata": {
        "id": "95c40fea-40d0-49e6-afe5-c181da731368"
      },
      "source": [
        "# build the phrase by \"adding\" the words together\n",
        "buzzphrase = bs1 + \" \" + bs2 + \" \" + bs3 + \" \" + bs4\n"
      ],
      "id": "95c40fea-40d0-49e6-afe5-c181da731368",
      "execution_count": 10,
      "outputs": []
    },
    {
      "cell_type": "code",
      "metadata": {
        "colab": {
          "base_uri": "https://localhost:8080/"
        },
        "id": "3e36c71d-ef4b-40d5-ac7f-a7717460e28f",
        "outputId": "d69b3e4e-1c9e-44ac-ee5d-c1a1eb7bbbc1"
      },
      "source": [
        "# output the phrase\n",
        "print (buzzphrase)"
      ],
      "id": "3e36c71d-ef4b-40d5-ac7f-a7717460e28f",
      "execution_count": 11,
      "outputs": [
        {
          "output_type": "stream",
          "name": "stdout",
          "text": [
            "credibly empower backward-compatible channels\n"
          ]
        }
      ]
    },
    {
      "cell_type": "code",
      "metadata": {
        "colab": {
          "base_uri": "https://localhost:8080/"
        },
        "id": "71838d24-05d5-44cb-ae5a-1195fd805622",
        "outputId": "ebd40da8-a710-4abe-9a55-587ad97844e9"
      },
      "source": [
        "# output more phrases\n",
        "print ('Business \"professional\" buzz phrases (3 per time):')\n",
        "for items in [1, 2, 3]:  # don't use upper case \n",
        "  bs1 = random.choice(adverbs)\n",
        "  bs2 = random.choice(verbs)\n",
        "  bs3 = random.choice(adjectives)\n",
        "  bs4 = random.choice(nouns)\n",
        "  buzzphrase = bs1 + \" \" + bs2 + \" \" + bs3 + \" \" + bs4\n",
        "  print (\"#\", items, \":\", buzzphrase )\n",
        "print (\"Thanks for your time!\")"
      ],
      "id": "71838d24-05d5-44cb-ae5a-1195fd805622",
      "execution_count": 12,
      "outputs": [
        {
          "output_type": "stream",
          "name": "stdout",
          "text": [
            "Business \"professional\" buzz phrases (3 per time):\n",
            "# 1 : appropriately extend cloud-based content\n",
            "# 2 : energistically aggregate B2B action items\n",
            "# 3 : completely expedite competitive e-commerce\n",
            "Thanks for your time!\n"
          ]
        }
      ]
    }
  ]
}