{
  "nbformat": 4,
  "nbformat_minor": 0,
  "metadata": {
    "colab": {
      "name": "amazon_prices.ipynb",
      "provenance": [],
      "include_colab_link": true
    },
    "kernelspec": {
      "name": "python3",
      "display_name": "Python 3"
    },
    "language_info": {
      "name": "python"
    }
  },
  "cells": [
    {
      "cell_type": "markdown",
      "metadata": {
        "id": "view-in-github",
        "colab_type": "text"
      },
      "source": [
        "<a href=\"https://colab.research.google.com/github/wayamhui/ISYS5002_portfolio/blob/main/amazon_prices.ipynb\" target=\"_parent\"><img src=\"https://colab.research.google.com/assets/colab-badge.svg\" alt=\"Open In Colab\"/></a>"
      ]
    },
    {
      "cell_type": "code",
      "metadata": {
        "id": "nAphLm9Vlzo5",
        "outputId": "417ae8b6-db63-437e-ea67-7f2ebd2e04eb",
        "colab": {
          "base_uri": "https://localhost:8080/"
        }
      },
      "source": [
        "!pip install kora -q\n",
        "'''load packages'''\n",
        "import requests\n",
        "from bs4 import BeautifulSoup\n",
        "from kora.selenium import wd"
      ],
      "execution_count": 1,
      "outputs": [
        {
          "output_type": "stream",
          "name": "stdout",
          "text": [
            "\u001b[K     |████████████████████████████████| 57 kB 1.6 MB/s \n",
            "\u001b[K     |████████████████████████████████| 56 kB 2.0 MB/s \n",
            "\u001b[?25h"
          ]
        }
      ]
    },
    {
      "cell_type": "code",
      "metadata": {
        "id": "Jyp2DYzImzk-"
      },
      "source": [
        "# Establish Session\n",
        "url = 'https://www.amazon.com.au'\n",
        "wd.get(url)\n",
        "wd  # web driver"
      ],
      "execution_count": null,
      "outputs": []
    },
    {
      "cell_type": "code",
      "metadata": {
        "id": "DCZLhnslm9Nm",
        "outputId": "faf03798-060f-4435-b5b5-50cb9882e166",
        "colab": {
          "base_uri": "https://localhost:8080/"
        }
      },
      "source": [
        "# work out the URL pattern\n",
        "# https://www.amazon.com.au/s?k=ultrawide+monitor&ref=nb_sb_noss\n",
        "\n",
        "template = 'https://www.amazon.com.au/s?k={}&ref=nb_sb_noss'\n",
        "\n",
        "\n",
        "\n",
        "# search_term = 'ultrawide monitor'\n",
        "search_term = input(\"What do you want to search for? \")\n",
        "search_term = search_term.replace(' ','+')\n",
        "\n",
        "url = template.format(search_term)\n",
        "wd.get(url)\n",
        "\n",
        "print(url)"
      ],
      "execution_count": 12,
      "outputs": [
        {
          "output_type": "stream",
          "name": "stdout",
          "text": [
            "What do you want to search for? ultrawide monitor\n",
            "https://www.amazon.com.au/s?k=ultrawide+monitor&ref=nb_sb_noss\n"
          ]
        }
      ]
    },
    {
      "cell_type": "code",
      "metadata": {
        "id": "AQz3cNSMnA-E"
      },
      "source": [
        "def get_url(search_term):\n",
        "  template = 'https://www.amazon.com.au/s?k={}&ref=nb_sb_noss'\n",
        "  search_term = search_term.replace(' ','+')\n",
        "  url = template.format(search_term)\n",
        "  return url\n"
      ],
      "execution_count": 15,
      "outputs": []
    },
    {
      "cell_type": "code",
      "metadata": {
        "id": "MT7rDgkAn2u9",
        "outputId": "8375fab9-5f2c-4151-9747-3e9fa4f57ecd",
        "colab": {
          "base_uri": "https://localhost:8080/"
        }
      },
      "source": [
        "search_term = input(\"What do you want to search for? \")\n",
        "url = get_url(search_term)\n",
        "wd.get(url)\n",
        "\n",
        "print(url)"
      ],
      "execution_count": 17,
      "outputs": [
        {
          "output_type": "stream",
          "name": "stdout",
          "text": [
            "What do you want to search for? ultrawide monitor\n",
            "https://www.amazon.com.au/s?k=ultrawide+monitor&ref=nb_sb_noss\n"
          ]
        }
      ]
    },
    {
      "cell_type": "code",
      "metadata": {
        "id": "IFVLuMHtoBep"
      },
      "source": [
        "soup = BeautifulSoup(wd.page_source, 'html.parser')"
      ],
      "execution_count": 19,
      "outputs": []
    },
    {
      "cell_type": "markdown",
      "metadata": {
        "id": "h4ee8kjVoYB3"
      },
      "source": [
        "# Extract the Collection"
      ]
    },
    {
      "cell_type": "code",
      "metadata": {
        "id": "9FVKD7tYoaWi",
        "outputId": "cf824c61-3e38-42cf-a5ac-616ab51da874",
        "colab": {
          "base_uri": "https://localhost:8080/"
        }
      },
      "source": [
        "results = soup.find_all('div',{'data-component-type': 's-search-result'})\n",
        "results[0]"
      ],
      "execution_count": 22,
      "outputs": [
        {
          "output_type": "execute_result",
          "data": {
            "text/plain": [
              "<div class=\"sg-col-4-of-12 s-result-item s-asin sg-col-4-of-16 sg-col sg-col-4-of-20\" data-asin=\"B01BV1XB2K\" data-cel-widget=\"search_result_1\" data-component-id=\"53\" data-component-type=\"s-search-result\" data-index=\"1\" data-uuid=\"c2c29b80-2187-4434-8f19-62140e758a3a\"><div class=\"sg-col-inner\">\n",
              "<span cel_widget_id=\"MAIN-SEARCH_RESULTS-1\" class=\"celwidget slot=MAIN template=SEARCH_RESULTS widgetId=search-results_1\" data-cel-widget=\"MAIN-SEARCH_RESULTS-1\" data-csa-c-id=\"yvqnzv-oh048j-e2dmmr-3rxxhs\">\n",
              "<div class=\"s-expand-height s-include-content-margin s-latency-cf-section s-border-bottom\"><div class=\"a-section a-spacing-medium\"><div class=\"a-section a-spacing-micro s-grid-status-badge-container\"></div><span class=\"rush-component\" data-component-id=\"1\" data-component-type=\"s-product-image\"><a class=\"a-link-normal s-no-outline\" href=\"/LG-25UM58-P-25-Inch-21-UltraWide/dp/B01BV1XB2K/ref=sr_1_1?dchild=1&amp;keywords=ultrawide+monitor&amp;qid=1633273139&amp;sr=8-1\"><div class=\"a-section aok-relative s-image-square-aspect\"><img alt=\"LG 25UM58-P 25-Inch 21:9 UltraWide IPS Monitor with Screen Split\" class=\"s-image\" data-image-index=\"1\" data-image-latency=\"s-product-image\" data-image-load=\"\" data-image-source-density=\"1\" src=\"https://m.media-amazon.com/images/I/81pv0g8bQhL._AC_UL320_.jpg\" srcset=\"https://m.media-amazon.com/images/I/81pv0g8bQhL._AC_UL320_.jpg 1x, https://m.media-amazon.com/images/I/81pv0g8bQhL._AC_UL480_FMwebp_QL65_.jpg 1.5x, https://m.media-amazon.com/images/I/81pv0g8bQhL._AC_UL640_FMwebp_QL65_.jpg 2x, https://m.media-amazon.com/images/I/81pv0g8bQhL._AC_UL800_FMwebp_QL65_.jpg 2.5x, https://m.media-amazon.com/images/I/81pv0g8bQhL._AC_UL960_FMwebp_QL65_.jpg 3x\"/></div></a></span><div class=\"a-section a-spacing-none\"><div class=\"a-section a-spacing-none a-spacing-top-small\"><h2 class=\"a-size-mini a-spacing-none a-color-base s-line-clamp-4\"><a class=\"a-link-normal a-text-normal\" href=\"/LG-25UM58-P-25-Inch-21-UltraWide/dp/B01BV1XB2K/ref=sr_1_1?dchild=1&amp;keywords=ultrawide+monitor&amp;qid=1633273139&amp;sr=8-1\"><span class=\"a-size-base a-color-base a-text-normal\">LG 25UM58-P 25-Inch 21:9 UltraWide IPS Monitor with Screen Split</span> </a> </h2></div><div class=\"a-section a-spacing-none a-spacing-top-micro\"><div class=\"a-row a-size-small\"><span aria-label=\"4.5 out of 5 stars\"><span class=\"a-declarative\" data-a-popover='{\"closeButton\":false,\"closeButtonLabel\":\"\",\"position\":\"triggerBottom\",\"popoverLabel\":\"\",\"url\":\"/review/widgets/average-customer-review/popover/ref=acr_search__popover?ie=UTF8&amp;asin=B01BV1XB2K&amp;ref=acr_search__popover&amp;contextId=search\"}' data-action=\"a-popover\"><a class=\"a-popover-trigger a-declarative\" href=\"javascript:void(0)\" role=\"button\"><i class=\"a-icon a-icon-star-small a-star-small-4-5 aok-align-bottom\"><span class=\"a-icon-alt\">4.5 out of 5 stars</span></i><i class=\"a-icon a-icon-popover\"></i></a></span> </span><span aria-label=\"4,187\"><a class=\"a-link-normal\" href=\"/LG-25UM58-P-25-Inch-21-UltraWide/dp/B01BV1XB2K/ref=sr_1_1?dchild=1&amp;keywords=ultrawide+monitor&amp;qid=1633273139&amp;sr=8-1#customerReviews\"><span class=\"a-size-base\">4,187</span> </a> </span></div></div><div class=\"a-section a-spacing-none a-spacing-top-small\"><div class=\"a-row a-size-base a-color-base\"><a class=\"a-size-base a-link-normal a-text-normal\" href=\"/LG-25UM58-P-25-Inch-21-UltraWide/dp/B01BV1XB2K/ref=sr_1_1?dchild=1&amp;keywords=ultrawide+monitor&amp;qid=1633273139&amp;sr=8-1\"><span class=\"a-price\" data-a-color=\"base\" data-a-size=\"l\"><span class=\"a-offscreen\">$279.00</span><span aria-hidden=\"true\"><span class=\"a-price-symbol\">$</span><span class=\"a-price-whole\">279<span class=\"a-price-decimal\">.</span></span><span class=\"a-price-fraction\">00</span></span></span> </a> </div></div><div class=\"a-section a-spacing-none a-spacing-top-mini\"><div class=\"a-row a-size-base a-color-secondary\"><span class=\"a-size-base a-color-secondary\">More Buying Choices</span><br/><span class=\"a-color-base\">$260.87</span><span class=\"a-letter-space\"></span><span class=\"a-declarative\" data-action=\"s-show-all-offers-display\" data-s-show-all-offers-display='{\"assetMismatch\":\"Abandon\",\"fallbackUrl\":\"/gp/offer-listing/B01BV1XB2K/ref=sr_1_1_olp?keywords=ultrawide+monitor&amp;qid=1633273139&amp;sr=8-1&amp;dchild=1\",\"url\":\"/gp/aod/ajax/ref=sr_1_1_aod?asin=B01BV1XB2K&amp;pc=sp&amp;keywords=ultrawide+monitor&amp;qid=1633273139&amp;sr=8-1&amp;dchild=1&amp;rrid=EQHH6R0HWRWVPJ58T3TE\"}'><a class=\"a-link-normal\" href=\"/gp/offer-listing/B01BV1XB2K/ref=sr_1_1_olp?keywords=ultrawide+monitor&amp;qid=1633273139&amp;sr=8-1&amp;dchild=1\">(3 new offers)</a></span> <div class=\"a-section aok-hidden\" id=\"all-offers-display\"><div class=\"a-spinner-wrapper aok-hidden\" id=\"all-offers-display-spinner\"><span class=\"a-spinner a-spinner-medium\"></span></div></div><span class=\"a-declarative\" data-action=\"close-all-offers-display\" data-close-all-offers-display=\"{}\"><div class=\"a-section aok-hidden aod-darken-background\" id=\"aod-background\"></div></span></div></div></div></div></div>\n",
              "</span>\n",
              "</div></div>"
            ]
          },
          "metadata": {},
          "execution_count": 22
        }
      ]
    },
    {
      "cell_type": "code",
      "metadata": {
        "id": "anR8Mto_olFI",
        "outputId": "46cbd878-37c8-4a8b-d5c7-8506fe636436",
        "colab": {
          "base_uri": "https://localhost:8080/",
          "height": 34
        }
      },
      "source": [
        "results[0].h2.a.text"
      ],
      "execution_count": 24,
      "outputs": [
        {
          "output_type": "execute_result",
          "data": {
            "application/vnd.google.colaboratory.intrinsic+json": {
              "type": "string"
            },
            "text/plain": [
              "'LG 25UM58-P 25-Inch 21:9 UltraWide IPS Monitor with Screen Split '"
            ]
          },
          "metadata": {},
          "execution_count": 24
        }
      ]
    },
    {
      "cell_type": "code",
      "metadata": {
        "colab": {
          "base_uri": "https://localhost:8080/",
          "height": 52
        },
        "id": "7SbZ48oPsNFk",
        "outputId": "f8e24267-5304-4113-a71b-2ed521a57c11"
      },
      "source": [
        "def extract_description(item):\n",
        "  descr = item.h2.a.text\n",
        "  return descr\n",
        "\n",
        "extract_description(results[11])"
      ],
      "execution_count": 26,
      "outputs": [
        {
          "output_type": "execute_result",
          "data": {
            "application/vnd.google.colaboratory.intrinsic+json": {
              "type": "string"
            },
            "text/plain": [
              "'Ergotron HX Desk Monitor Arm - Mounting kit (articulating arm, Desk clamp Mount, Grommet Mount, Pivot, mounting Hardware, Extension Part) for Monitor - Matte Black - Screen Size: up to 49\" - Desktop '"
            ]
          },
          "metadata": {},
          "execution_count": 26
        }
      ]
    },
    {
      "cell_type": "markdown",
      "metadata": {
        "id": "1XWF5LHBsjlJ"
      },
      "source": [
        "# Prototype the record"
      ]
    },
    {
      "cell_type": "code",
      "metadata": {
        "id": "cC0bk72XsQ-V",
        "outputId": "2d76b420-53e7-4bcf-e771-a9b81ac18e11",
        "colab": {
          "base_uri": "https://localhost:8080/",
          "height": 34
        }
      },
      "source": [
        "item = results[0]\n",
        "price_parent = item.find('span', 'a-price')\n",
        "price = price_parent.find('span', 'a-offscreen')\n",
        "price.text"
      ],
      "execution_count": 30,
      "outputs": [
        {
          "output_type": "execute_result",
          "data": {
            "application/vnd.google.colaboratory.intrinsic+json": {
              "type": "string"
            },
            "text/plain": [
              "'$279.00'"
            ]
          },
          "metadata": {},
          "execution_count": 30
        }
      ]
    },
    {
      "cell_type": "code",
      "metadata": {
        "id": "jESVEqVVsyuA"
      },
      "source": [
        "def extract_price(item):\n",
        "  try:\n",
        "    price_parent = item.find('span', 'a-price')\n",
        "    price = price_parent.find('span', 'a-offscreen')\n",
        "  except AttributeError:\n",
        "    price=''\n",
        "  return price"
      ],
      "execution_count": 58,
      "outputs": []
    },
    {
      "cell_type": "code",
      "metadata": {
        "id": "iO16HydCs3zv",
        "outputId": "796897cf-df14-4e4f-b1f5-795edeac1962",
        "colab": {
          "base_uri": "https://localhost:8080/"
        }
      },
      "source": [
        "extract_price(results[0])\n"
      ],
      "execution_count": 59,
      "outputs": [
        {
          "output_type": "execute_result",
          "data": {
            "text/plain": [
              "<span class=\"a-offscreen\">$279.00</span>"
            ]
          },
          "metadata": {},
          "execution_count": 59
        }
      ]
    },
    {
      "cell_type": "code",
      "metadata": {
        "id": "64GHbNF8s734"
      },
      "source": [
        "def extract_record(item):\n",
        "  return { \n",
        "      'description': extract_description(item),\n",
        "      'price': extract_price(item)\n",
        "  }\n"
      ],
      "execution_count": 60,
      "outputs": []
    },
    {
      "cell_type": "code",
      "metadata": {
        "id": "fBB-xo7HtIsm",
        "outputId": "2793d728-2b13-4870-e678-eaa1427ec616",
        "colab": {
          "base_uri": "https://localhost:8080/"
        }
      },
      "source": [
        "extract_record(result[0])\n"
      ],
      "execution_count": 61,
      "outputs": [
        {
          "output_type": "execute_result",
          "data": {
            "text/plain": [
              "{'description': 'LG 25UM58-P 25-Inch 21:9 UltraWide IPS Monitor with Screen Split ',\n",
              " 'price': <span class=\"a-offscreen\">$279.00</span>}"
            ]
          },
          "metadata": {},
          "execution_count": 61
        }
      ]
    },
    {
      "cell_type": "code",
      "metadata": {
        "id": "4QZ_hBYRtxny",
        "outputId": "0b904173-4474-4e13-ada5-84d254751112",
        "colab": {
          "base_uri": "https://localhost:8080/"
        }
      },
      "source": [
        "records = [] \n",
        "for r in results:\n",
        "  records.append(extract_record(r))\n",
        "\n",
        "records[0]"
      ],
      "execution_count": 62,
      "outputs": [
        {
          "output_type": "execute_result",
          "data": {
            "text/plain": [
              "{'description': 'LG 25UM58-P 25-Inch 21:9 UltraWide IPS Monitor with Screen Split ',\n",
              " 'price': <span class=\"a-offscreen\">$279.00</span>}"
            ]
          },
          "metadata": {},
          "execution_count": 62
        }
      ]
    },
    {
      "cell_type": "code",
      "metadata": {
        "id": "LhWHC-W7t3mH",
        "outputId": "955b21c2-19e5-49b3-cd9e-7592797ebc48",
        "colab": {
          "base_uri": "https://localhost:8080/",
          "height": 205
        }
      },
      "source": [
        "import pandas as pd\n",
        "df = pd.DataFrame.from_records(records)\n",
        "df.head()"
      ],
      "execution_count": 65,
      "outputs": [
        {
          "output_type": "execute_result",
          "data": {
            "text/html": [
              "<div>\n",
              "<style scoped>\n",
              "    .dataframe tbody tr th:only-of-type {\n",
              "        vertical-align: middle;\n",
              "    }\n",
              "\n",
              "    .dataframe tbody tr th {\n",
              "        vertical-align: top;\n",
              "    }\n",
              "\n",
              "    .dataframe thead th {\n",
              "        text-align: right;\n",
              "    }\n",
              "</style>\n",
              "<table border=\"1\" class=\"dataframe\">\n",
              "  <thead>\n",
              "    <tr style=\"text-align: right;\">\n",
              "      <th></th>\n",
              "      <th>description</th>\n",
              "      <th>price</th>\n",
              "    </tr>\n",
              "  </thead>\n",
              "  <tbody>\n",
              "    <tr>\n",
              "      <th>0</th>\n",
              "      <td>LG 25UM58-P 25-Inch 21:9 UltraWide IPS Monitor...</td>\n",
              "      <td>[$279.00]</td>\n",
              "    </tr>\n",
              "    <tr>\n",
              "      <th>1</th>\n",
              "      <td>LG 34BN670-B 34” IPS FHD UltraWide Monitor (25...</td>\n",
              "      <td>[$750.83]</td>\n",
              "    </tr>\n",
              "    <tr>\n",
              "      <th>2</th>\n",
              "      <td>LG 29WP60G-B 29 Inch 21:9 UltraWide Full HD (2...</td>\n",
              "      <td>[$348.41]</td>\n",
              "    </tr>\n",
              "    <tr>\n",
              "      <th>3</th>\n",
              "      <td>VIVO Single LCD Monitor Desk Mount Stand Fully...</td>\n",
              "      <td>[$61.38]</td>\n",
              "    </tr>\n",
              "    <tr>\n",
              "      <th>4</th>\n",
              "      <td>AVLT Single 13\"-38\" Monitor Arm Desk Mount fit...</td>\n",
              "      <td>[$191.85]</td>\n",
              "    </tr>\n",
              "  </tbody>\n",
              "</table>\n",
              "</div>"
            ],
            "text/plain": [
              "                                         description      price\n",
              "0  LG 25UM58-P 25-Inch 21:9 UltraWide IPS Monitor...  [$279.00]\n",
              "1  LG 34BN670-B 34” IPS FHD UltraWide Monitor (25...  [$750.83]\n",
              "2  LG 29WP60G-B 29 Inch 21:9 UltraWide Full HD (2...  [$348.41]\n",
              "3  VIVO Single LCD Monitor Desk Mount Stand Fully...   [$61.38]\n",
              "4  AVLT Single 13\"-38\" Monitor Arm Desk Mount fit...  [$191.85]"
            ]
          },
          "metadata": {},
          "execution_count": 65
        }
      ]
    },
    {
      "cell_type": "code",
      "metadata": {
        "id": "BfmPYjmRuMwU"
      },
      "source": [
        ""
      ],
      "execution_count": null,
      "outputs": []
    },
    {
      "cell_type": "markdown",
      "metadata": {
        "id": "bQK8lneQvDxO"
      },
      "source": [
        "# Generalize the pattern"
      ]
    },
    {
      "cell_type": "code",
      "metadata": {
        "id": "gF3DcIRRvHnP"
      },
      "source": [
        ""
      ],
      "execution_count": null,
      "outputs": []
    },
    {
      "cell_type": "code",
      "metadata": {
        "id": "QqKbxj1kwcYc",
        "outputId": "1bac0e30-32fe-4ec8-a0bf-57e4fe8b612c",
        "colab": {
          "base_uri": "https://localhost:8080/"
        }
      },
      "source": [
        "records = []\n",
        "results = soup.find_all('div', {'data-component-type': 's-search-result'})\n",
        "\n",
        "for item in results:\n",
        "  records.append(extract_record(item))\n",
        "\n",
        "print(records[0])\n",
        "print(records[1])"
      ],
      "execution_count": 70,
      "outputs": [
        {
          "output_type": "stream",
          "name": "stdout",
          "text": [
            "{'description': 'LG 25UM58-P 25-Inch 21:9 UltraWide IPS Monitor with Screen Split ', 'price': <span class=\"a-offscreen\">$279.00</span>}\n",
            "{'description': 'LG 34BN670-B 34” IPS FHD UltraWide Monitor (2560x1080) with 21:9 Aspect Ratio, VESA DisplayHDR 400, AMD FreeSync, Black ', 'price': <span class=\"a-offscreen\">$750.83</span>}\n"
          ]
        }
      ]
    },
    {
      "cell_type": "markdown",
      "metadata": {
        "id": "_ZRk5fnhxeRZ"
      },
      "source": [
        "# Error Handling"
      ]
    },
    {
      "cell_type": "code",
      "metadata": {
        "id": "vkIT_BNUxFvl"
      },
      "source": [
        "\n"
      ],
      "execution_count": null,
      "outputs": []
    },
    {
      "cell_type": "code",
      "metadata": {
        "id": "pYKIDlY0x64Y"
      },
      "source": [
        ""
      ],
      "execution_count": null,
      "outputs": []
    },
    {
      "cell_type": "code",
      "metadata": {
        "id": "phNc9nIpyImi"
      },
      "source": [
        ""
      ],
      "execution_count": null,
      "outputs": []
    },
    {
      "cell_type": "markdown",
      "metadata": {
        "id": "TGU8ZMgxyaWt"
      },
      "source": [
        "# Find next page"
      ]
    },
    {
      "cell_type": "code",
      "metadata": {
        "id": "7JzOCBBRyd5B"
      },
      "source": [
        ""
      ],
      "execution_count": null,
      "outputs": []
    },
    {
      "cell_type": "markdown",
      "metadata": {
        "id": "FanXzdQm2SHO"
      },
      "source": [
        "# Putting it all together"
      ]
    },
    {
      "cell_type": "code",
      "metadata": {
        "id": "sP0evzCj2O2d"
      },
      "source": [
        ""
      ],
      "execution_count": null,
      "outputs": []
    },
    {
      "cell_type": "code",
      "metadata": {
        "id": "SmzW9RwEASoq",
        "outputId": "c55376da-bddf-4195-9acc-3c026d0bbcca",
        "colab": {
          "base_uri": "https://localhost:8080/",
          "height": 167
        }
      },
      "source": [
        "df = amonzon_as_dataframe(\"ultrawide monitor\")"
      ],
      "execution_count": 43,
      "outputs": [
        {
          "output_type": "error",
          "ename": "NameError",
          "evalue": "ignored",
          "traceback": [
            "\u001b[0;31m---------------------------------------------------------------------------\u001b[0m",
            "\u001b[0;31mNameError\u001b[0m                                 Traceback (most recent call last)",
            "\u001b[0;32m<ipython-input-43-50bcfb55575b>\u001b[0m in \u001b[0;36m<module>\u001b[0;34m()\u001b[0m\n\u001b[0;32m----> 1\u001b[0;31m \u001b[0mdf\u001b[0m \u001b[0;34m=\u001b[0m \u001b[0mamonzon_as_dataframe\u001b[0m\u001b[0;34m(\u001b[0m\u001b[0;34m\"ultrawide monitor\"\u001b[0m\u001b[0;34m)\u001b[0m\u001b[0;34m\u001b[0m\u001b[0;34m\u001b[0m\u001b[0m\n\u001b[0m",
            "\u001b[0;31mNameError\u001b[0m: name 'amonzon_as_dataframe' is not defined"
          ]
        }
      ]
    },
    {
      "cell_type": "code",
      "metadata": {
        "colab": {
          "base_uri": "https://localhost:8080/",
          "height": 205
        },
        "id": "BF-zepIwAetK",
        "outputId": "913587a4-9576-4ba3-b82f-0f8d5f419086"
      },
      "source": [
        "df.head()"
      ],
      "execution_count": null,
      "outputs": [
        {
          "output_type": "execute_result",
          "data": {
            "text/html": [
              "<div>\n",
              "<style scoped>\n",
              "    .dataframe tbody tr th:only-of-type {\n",
              "        vertical-align: middle;\n",
              "    }\n",
              "\n",
              "    .dataframe tbody tr th {\n",
              "        vertical-align: top;\n",
              "    }\n",
              "\n",
              "    .dataframe thead th {\n",
              "        text-align: right;\n",
              "    }\n",
              "</style>\n",
              "<table border=\"1\" class=\"dataframe\">\n",
              "  <thead>\n",
              "    <tr style=\"text-align: right;\">\n",
              "      <th></th>\n",
              "      <th>description</th>\n",
              "      <th>url</th>\n",
              "      <th>price</th>\n",
              "      <th>rating</th>\n",
              "      <th>review_count</th>\n",
              "    </tr>\n",
              "  </thead>\n",
              "  <tbody>\n",
              "    <tr>\n",
              "      <th>0</th>\n",
              "      <td>Gigabyte G34WQC 34\" 144Hz QHD 1ms Ultra-Wide C...</td>\n",
              "      <td>https://www.amazon.com.au/Gigabyte-G34WQC-Ultr...</td>\n",
              "      <td>$771.44</td>\n",
              "      <td>4.4 out of 5 stars</td>\n",
              "      <td>198</td>\n",
              "    </tr>\n",
              "    <tr>\n",
              "      <th>1</th>\n",
              "      <td>LG 25UM58-P 25-Inch 21:9 UltraWide IPS Monitor...</td>\n",
              "      <td>https://www.amazon.com.au/LG-25UM58-P-25-Inch-...</td>\n",
              "      <td>$279.00</td>\n",
              "      <td>4.5 out of 5 stars</td>\n",
              "      <td>4,183</td>\n",
              "    </tr>\n",
              "    <tr>\n",
              "      <th>2</th>\n",
              "      <td>Dell S3221QS 32 Inch Curved 4K UHD Monitor, VA...</td>\n",
              "      <td>https://www.amazon.com.au/S3221QS-Ultra-Thin-F...</td>\n",
              "      <td>$613.28</td>\n",
              "      <td>4.6 out of 5 stars</td>\n",
              "      <td>659</td>\n",
              "    </tr>\n",
              "    <tr>\n",
              "      <th>3</th>\n",
              "      <td>BenQ 32 inch 144 Hz Curved Gaming Monitor ( EX...</td>\n",
              "      <td>https://www.amazon.com.au/BenQ-EX3203R-FreeSyn...</td>\n",
              "      <td>$752.12</td>\n",
              "      <td>4.5 out of 5 stars</td>\n",
              "      <td>11,215</td>\n",
              "    </tr>\n",
              "    <tr>\n",
              "      <th>4</th>\n",
              "      <td>VIVO 17 to 43 inch Aluminum Single Ultrawide M...</td>\n",
              "      <td>https://www.amazon.com.au/VIVO-Ultrawide-Artic...</td>\n",
              "      <td>$153.60</td>\n",
              "      <td>4.4 out of 5 stars</td>\n",
              "      <td>174</td>\n",
              "    </tr>\n",
              "  </tbody>\n",
              "</table>\n",
              "</div>"
            ],
            "text/plain": [
              "                                         description  ... review_count\n",
              "0  Gigabyte G34WQC 34\" 144Hz QHD 1ms Ultra-Wide C...  ...          198\n",
              "1  LG 25UM58-P 25-Inch 21:9 UltraWide IPS Monitor...  ...        4,183\n",
              "2  Dell S3221QS 32 Inch Curved 4K UHD Monitor, VA...  ...          659\n",
              "3  BenQ 32 inch 144 Hz Curved Gaming Monitor ( EX...  ...       11,215\n",
              "4  VIVO 17 to 43 inch Aluminum Single Ultrawide M...  ...          174\n",
              "\n",
              "[5 rows x 5 columns]"
            ]
          },
          "metadata": {},
          "execution_count": 41
        }
      ]
    },
    {
      "cell_type": "code",
      "metadata": {
        "id": "sOFfhTFDDpto"
      },
      "source": [
        ""
      ],
      "execution_count": null,
      "outputs": []
    }
  ]
}