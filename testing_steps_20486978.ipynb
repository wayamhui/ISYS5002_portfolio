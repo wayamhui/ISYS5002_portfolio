{
  "nbformat": 4,
  "nbformat_minor": 0,
  "metadata": {
    "colab": {
      "name": "testing_steps_20486978.ipynb",
      "provenance": [],
      "toc_visible": true,
      "include_colab_link": true
    },
    "kernelspec": {
      "name": "python3",
      "display_name": "Python 3"
    },
    "language_info": {
      "name": "python"
    }
  },
  "cells": [
    {
      "cell_type": "markdown",
      "metadata": {
        "id": "view-in-github",
        "colab_type": "text"
      },
      "source": [
        "<a href=\"https://colab.research.google.com/github/wayamhui/ISYS5002_portfolio/blob/main/testing_steps_20486978.ipynb\" target=\"_parent\"><img src=\"https://colab.research.google.com/assets/colab-badge.svg\" alt=\"Open In Colab\"/></a>"
      ]
    },
    {
      "cell_type": "markdown",
      "metadata": {
        "id": "-xcnFuWmxrX8"
      },
      "source": [
        "# Assert Statement"
      ]
    },
    {
      "cell_type": "code",
      "metadata": {
        "id": "EmBvrh6q1Kd2"
      },
      "source": [
        "def my_func(x, y, z):\n",
        "    return x * y + z"
      ],
      "execution_count": 20,
      "outputs": []
    },
    {
      "cell_type": "code",
      "metadata": {
        "id": "AiW10zSqxxr8",
        "colab": {
          "base_uri": "https://localhost:8080/"
        },
        "outputId": "ce71c9aa-cf19-4079-c5b7-28429eb41c0b"
      },
      "source": [
        "# test result\n",
        "result = my_func(1,2,3)\n",
        "\n",
        "# assert boolean_expression, message if false\n",
        "assert result == 5, 'Should be 5'\n",
        "\n",
        "print(result)\n"
      ],
      "execution_count": 21,
      "outputs": [
        {
          "output_type": "stream",
          "name": "stdout",
          "text": [
            "5\n"
          ]
        }
      ]
    },
    {
      "cell_type": "code",
      "metadata": {
        "id": "m5-IRoZjx1P4",
        "colab": {
          "base_uri": "https://localhost:8080/"
        },
        "outputId": "9fc928b5-0b28-4a71-d542-a5399ed06f23"
      },
      "source": [
        "# test function\n",
        "\n",
        "assert my_func(1,1,3) == 4, 'Should be 4'\n",
        "print(my_func(1,1,3))"
      ],
      "execution_count": 22,
      "outputs": [
        {
          "output_type": "stream",
          "name": "stdout",
          "text": [
            "4\n"
          ]
        }
      ]
    },
    {
      "cell_type": "code",
      "metadata": {
        "id": "Rs4kX-Z91jn3",
        "colab": {
          "base_uri": "https://localhost:8080/",
          "height": 34
        },
        "outputId": "ad0e9c63-5757-4594-f7e1-1df070cc327f"
      },
      "source": [
        "# in order to let the remaining codes to be able to run, this session is moved to as final session to run\n",
        "\"\"\"\n",
        "# test something wrong\n",
        "  print(my_func(1,2,3))\n",
        "  assert my_func(1,2,3) == 4, 'Should be 5'\n",
        "\"\"\""
      ],
      "execution_count": 23,
      "outputs": [
        {
          "output_type": "execute_result",
          "data": {
            "application/vnd.google.colaboratory.intrinsic+json": {
              "type": "string"
            },
            "text/plain": [
              "\"\\n# test something wrong\\n  print(my_func(1,2,3))\\n  assert my_func(1,2,3) == 4, 'Should be 5'\\n\""
            ]
          },
          "metadata": {},
          "execution_count": 23
        }
      ]
    },
    {
      "cell_type": "markdown",
      "metadata": {
        "id": "fSejL2YIx3BI"
      },
      "source": [
        "# Write functions\n",
        "\n",
        "Wrap the asert statement inside functions\n",
        "\n",
        "The write a function that call the test functions"
      ]
    },
    {
      "cell_type": "code",
      "metadata": {
        "id": "XJUEKmdBxqU1",
        "colab": {
          "base_uri": "https://localhost:8080/"
        },
        "outputId": "0aa73a57-e7af-4810-ca25-08fb6f76aab8"
      },
      "source": [
        "def test_my_func_3_numbers():\n",
        "  assert my_func(1,1,3) == 4, 'Should be 4'\n",
        "  assert my_func(1,2,3) == 5, 'Should be 5'\n",
        "\n",
        "def run_tests():\n",
        "  print(\"Running tests\")\n",
        "  test_my_func_3_numbers()\n",
        "  print(\"All tests passed\")\n",
        "\n",
        "run_tests()\n",
        "\n",
        "def test_my_func_string_number_string():\n",
        "  result = my_func('hello ',3,'world!')\n",
        "  assert result == 'hello hello hello world!', \"check!\"\n",
        "\n",
        "test_my_func_string_number_string()"
      ],
      "execution_count": 24,
      "outputs": [
        {
          "output_type": "stream",
          "name": "stdout",
          "text": [
            "Running tests\n",
            "All tests passed\n"
          ]
        }
      ]
    },
    {
      "cell_type": "markdown",
      "metadata": {
        "id": "651TMRAVx7Ze"
      },
      "source": [
        "## Doctest\n",
        "\n",
        "Best practice comments functions in a doc string.  We can include tests in these docstrings"
      ]
    },
    {
      "cell_type": "code",
      "metadata": {
        "id": "X7mBZEXdYxka"
      },
      "source": [
        "def my_func(x, y, z):  # please pay attention to \"\"\" and >>>\n",
        "    \"\"\"\n",
        "    This function will do x times y plus z...\n",
        "    >>> my_func(1,1,1)\n",
        "    2\n",
        "    >>> my_func(1,2,1)  \n",
        "    3\n",
        "    >>> my_func('1',3,'2')  \n",
        "    '1112'\n",
        "\n",
        "    \"\"\"\n",
        "    return x * y + z\n",
        "\n"
      ],
      "execution_count": 25,
      "outputs": []
    },
    {
      "cell_type": "code",
      "metadata": {
        "colab": {
          "base_uri": "https://localhost:8080/"
        },
        "id": "TFt48QngBYOc",
        "outputId": "6d3f70d3-2a77-40ab-ae4e-27dd51e72c59"
      },
      "source": [
        "help(my_func)"
      ],
      "execution_count": 26,
      "outputs": [
        {
          "output_type": "stream",
          "name": "stdout",
          "text": [
            "Help on function my_func in module __main__:\n",
            "\n",
            "my_func(x, y, z)\n",
            "    This function will do x times y plus z...\n",
            "    >>> my_func(1,1,1)\n",
            "    2\n",
            "    >>> my_func(1,2,1)  \n",
            "    3\n",
            "    >>> my_func('1',3,'2')  \n",
            "    '1112'\n",
            "\n"
          ]
        }
      ]
    },
    {
      "cell_type": "code",
      "metadata": {
        "id": "fzNLAyVByVaR",
        "colab": {
          "base_uri": "https://localhost:8080/"
        },
        "outputId": "ac9e9723-81e0-466d-9ad2-35bee566d5ba"
      },
      "source": [
        "import doctest\n",
        "doctest.testmod()"
      ],
      "execution_count": 27,
      "outputs": [
        {
          "output_type": "execute_result",
          "data": {
            "text/plain": [
              "TestResults(failed=0, attempted=3)"
            ]
          },
          "metadata": {},
          "execution_count": 27
        }
      ]
    },
    {
      "cell_type": "markdown",
      "metadata": {
        "id": "MBlQNvp9zpNu"
      },
      "source": [
        "# unittests\n",
        "\n",
        "Similar to writing own functions with assert statement, but provides summary output"
      ]
    },
    {
      "cell_type": "code",
      "metadata": {
        "id": "jZyaDcR2fSwG",
        "colab": {
          "base_uri": "https://localhost:8080/"
        },
        "outputId": "23e3b127-a7d3-46fd-e4e8-84b444b45dec"
      },
      "source": [
        "!pip install ipython_unittest\n",
        "%load_ext ipython_unittest"
      ],
      "execution_count": 28,
      "outputs": [
        {
          "output_type": "stream",
          "name": "stdout",
          "text": [
            "Requirement already satisfied: ipython_unittest in /usr/local/lib/python3.7/dist-packages (0.3.1)\n",
            "The ipython_unittest extension is already loaded. To reload it, use:\n",
            "  %reload_ext ipython_unittest\n"
          ]
        }
      ]
    },
    {
      "cell_type": "code",
      "metadata": {
        "id": "A6B6Rpb5eUjS",
        "colab": {
          "base_uri": "https://localhost:8080/",
          "height": 138
        },
        "outputId": "4f2b0e41-374e-4a67-90e2-6e33770774f4"
      },
      "source": [
        "%%unittest_testcase\n",
        "def test_3_numbers(self):\n",
        "  result = my_func(1,2,3)\n",
        "  self.assertEqual(result,5)\n",
        "\n",
        "# self test"
      ],
      "execution_count": 29,
      "outputs": [
        {
          "output_type": "display_data",
          "data": {
            "application/unittest.status+json": {
              "color": "yellow",
              "message": "",
              "previous": 0
            },
            "text/plain": [
              ""
            ]
          },
          "metadata": {}
        },
        {
          "output_type": "display_data",
          "data": {
            "application/unittest.status+json": {
              "color": "lightgreen",
              "message": ".\n----------------------------------------------------------------------\nRan 1 test in 0.000s\n\nOK\n",
              "previous": 0
            },
            "text/plain": [
              "Success"
            ]
          },
          "metadata": {}
        },
        {
          "output_type": "stream",
          "name": "stdout",
          "text": [
            ".\n",
            "----------------------------------------------------------------------\n",
            "Ran 1 test in 0.000s\n",
            "\n",
            "OK\n"
          ]
        },
        {
          "output_type": "execute_result",
          "data": {
            "text/plain": [
              "<unittest.runner.TextTestResult run=1 errors=0 failures=0>"
            ]
          },
          "metadata": {},
          "execution_count": 29
        }
      ]
    },
    {
      "cell_type": "markdown",
      "metadata": {
        "id": "mAIpRX77kSNX"
      },
      "source": [
        ""
      ]
    },
    {
      "cell_type": "markdown",
      "metadata": {
        "id": "x9mDMefTlBog"
      },
      "source": [
        "# New session"
      ]
    },
    {
      "cell_type": "markdown",
      "metadata": {
        "id": "WS51YQRTkzHW"
      },
      "source": [
        "Test Something Wrong On Purpose"
      ]
    },
    {
      "cell_type": "code",
      "metadata": {
        "colab": {
          "base_uri": "https://localhost:8080/",
          "height": 132
        },
        "id": "XXoR81NlkVnQ",
        "outputId": "11697859-6be1-40b5-e3fd-f0303807cec9"
      },
      "source": [
        "# test something wrong\n",
        "  print(my_func(1,2,3))\n",
        "  assert my_func(1,2,3) == 4, 'Should be 5'"
      ],
      "execution_count": 30,
      "outputs": [
        {
          "output_type": "error",
          "ename": "IndentationError",
          "evalue": "ignored",
          "traceback": [
            "\u001b[0;36m  File \u001b[0;32m\"<ipython-input-30-55d8a9f2021b>\"\u001b[0;36m, line \u001b[0;32m2\u001b[0m\n\u001b[0;31m    print(my_func(1,2,3))\u001b[0m\n\u001b[0m    ^\u001b[0m\n\u001b[0;31mIndentationError\u001b[0m\u001b[0;31m:\u001b[0m unexpected indent\n"
          ]
        }
      ]
    }
  ]
}