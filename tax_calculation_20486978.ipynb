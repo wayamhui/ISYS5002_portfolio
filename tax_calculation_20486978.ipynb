{
  "nbformat": 4,
  "nbformat_minor": 0,
  "metadata": {
    "colab": {
      "name": "tax_calculation_20486978.ipynb",
      "provenance": [],
      "include_colab_link": true
    },
    "kernelspec": {
      "name": "python3",
      "display_name": "Python 3"
    },
    "language_info": {
      "name": "python"
    }
  },
  "cells": [
    {
      "cell_type": "markdown",
      "metadata": {
        "id": "view-in-github",
        "colab_type": "text"
      },
      "source": [
        "<a href=\"https://colab.research.google.com/github/wayamhui/ISYS5002_portfolio/blob/main/tax_calculation_20486978.ipynb\" target=\"_parent\"><img src=\"https://colab.research.google.com/assets/colab-badge.svg\" alt=\"Open In Colab\"/></a>"
      ]
    },
    {
      "cell_type": "markdown",
      "metadata": {
        "id": "bVMwNyExqHgH"
      },
      "source": [
        "Write a program the prompts the user for their income and caclualtes the tax payable.\n",
        "\n",
        "[Resident tax rates 2021–22\n",
        "Taxable income](https://www.ato.gov.au/rates/individual-income-tax-rates/)\n",
        "\n",
        "Income            | Tax on this income \n",
        "------------------|----------------------\n",
        "0 – \\$18,200       | Nil\n",
        "\\$18,201 – \\$45,000 | 19 cents for each \\$1 over \\$18,200\n",
        "\\$45,001 – \\$120,000 | \\$5,092 plus 32.5 cents for each \\$1 over \\$45,000\n",
        "\\$120,001 – \\$180,000 |  \\$29,467 plus 37 cents for each \\$1 over \\$120,000\n",
        "\\$180,001 and over | \\$51,667 plus 45 cents for each \\$1 over \\$180,000\n",
        "\n"
      ]
    },
    {
      "cell_type": "code",
      "metadata": {
        "id": "BSQnuKQvr-zw"
      },
      "source": [
        "def getincome():\n",
        "  annualincome = int(input(\"What is your income for the year? \"))\n",
        "  return annualincome\n"
      ],
      "execution_count": 1,
      "outputs": []
    },
    {
      "cell_type": "code",
      "metadata": {
        "id": "jv_vqprwYLnV"
      },
      "source": [
        "def tax_cal(annualincome):\n",
        "  if annualincome <=18200:\n",
        "    tax_payable = 0\n",
        "  elif annualincome <=45000:\n",
        "    tax_payable = ( annualincome - 18200 ) * 0.19 \n",
        "  elif annualincome <=120000:\n",
        "    tax_payable = ( annualincome - 45000 ) * 0.325 + 5092\n",
        "  elif annualincome <=180000:\n",
        "    tax_payable = ( annualincome - 120000 ) * 0.37 + 29467\n",
        "  else:\n",
        "    tax_payable = ( annualincome - 180000 ) * 0.45 + 51667\n",
        "  return tax_payable\n",
        "\n"
      ],
      "execution_count": 2,
      "outputs": []
    },
    {
      "cell_type": "code",
      "metadata": {
        "colab": {
          "base_uri": "https://localhost:8080/"
        },
        "id": "qz4ntRuVbrE0",
        "outputId": "ebc1f3ee-876e-4fdf-937b-7ced8cf4a1cb"
      },
      "source": [
        "income = getincome()\n",
        "print(\"Your tax payable is: \", tax_cal(income))\n"
      ],
      "execution_count": 3,
      "outputs": [
        {
          "output_type": "stream",
          "name": "stdout",
          "text": [
            "What is your income for the year? 45000\n",
            "Your tax payable is:  5092.0\n"
          ]
        }
      ]
    }
  ]
}