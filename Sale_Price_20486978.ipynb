{
  "nbformat": 4,
  "nbformat_minor": 0,
  "metadata": {
    "colab": {
      "name": "Sale_Price_20486978.ipynb",
      "provenance": [],
      "include_colab_link": true
    },
    "kernelspec": {
      "name": "python3",
      "display_name": "Python 3"
    },
    "language_info": {
      "name": "python"
    }
  },
  "cells": [
    {
      "cell_type": "markdown",
      "metadata": {
        "id": "view-in-github",
        "colab_type": "text"
      },
      "source": [
        "<a href=\"https://colab.research.google.com/github/wayamhui/ISYS5002_portfolio/blob/main/Sale_Price_20486978.ipynb\" target=\"_parent\"><img src=\"https://colab.research.google.com/assets/colab-badge.svg\" alt=\"Open In Colab\"/></a>"
      ]
    },
    {
      "cell_type": "markdown",
      "metadata": {
        "id": "cgTeiXOtSPjH"
      },
      "source": [
        "A local department store needs to develop a program which when given an items original price and percentage it has been discounted, will computer the total price (including goods and services tax) of the item on sale."
      ]
    },
    {
      "cell_type": "markdown",
      "metadata": {
        "id": "STBCEY6spNiE"
      },
      "source": [
        "* What the results I am try to obtain?\n",
        "* What data does needs to be provided?\n",
        "* How will we obtain the output form the given input?\n",
        "\n",
        "Input -> Processing -> Output\n",
        "\n",
        "A local department store needs to develop a program which when given an **items** **original price** and percentage it has been **discounted**, will computer the **total price** (including goods and services tax **GST**) of the item on sale.\n",
        "\n",
        "* Item Name.  - create *item_name*\n",
        "* Discounted Price - crate *sale_price*\n",
        "* GST - create *gst*\n",
        "* Total Price -  create *total_price*\n",
        "\n",
        "### Input\n",
        "* item_name\n",
        "* gst (?)\n",
        "* original_price\n",
        "* discount_rate ( assume in percent, will need to divide by 100)\n",
        "\n",
        "### Output\n",
        "* item_name\n",
        "* sale_price\n",
        "\n",
        "\n",
        "### Calculations (intial thoughts on processing)\n",
        "* Calclate *sale_price*\n",
        "* Calculate *tax*\n",
        "* What is the discount? Amount saved?\n",
        "* Calculate *total_price*\n",
        "\n",
        "### Worked Examples\n",
        "\n",
        "Assume I have a book, original price is $50.  I need to discount the book by 20%\n",
        "\n",
        "Amount Saved (Savings)\n",
        "\n",
        "\\$50 X 20%  = $50 X 20/100 \n",
        "\n",
        "\n",
        "\n",
        "\n"
      ]
    },
    {
      "cell_type": "markdown",
      "metadata": {
        "id": "_rUPycWu2brv"
      },
      "source": [
        "peudo codes for **sales price**"
      ]
    },
    {
      "cell_type": "code",
      "metadata": {
        "colab": {
          "base_uri": "https://localhost:8080/"
        },
        "id": "KZcpn9l-qK_q",
        "outputId": "63452c9d-f4ac-4507-92b0-c84d47303413"
      },
      "source": [
        "50 * 20 / 100"
      ],
      "execution_count": 1,
      "outputs": [
        {
          "output_type": "execute_result",
          "data": {
            "text/plain": [
              "10.0"
            ]
          },
          "metadata": {},
          "execution_count": 1
        }
      ]
    },
    {
      "cell_type": "markdown",
      "metadata": {
        "id": "HxBFmexSs575"
      },
      "source": [
        "Sale price = \\$50 - \\$10 = \\$40\n",
        "\n",
        "Suggested formula is:\n",
        "\n",
        "sale_price =  original_price - amount_saved\n",
        "\n",
        "Where\n",
        "\n",
        "amount_saved = original_price * ( discount_rate / 100)"
      ]
    },
    {
      "cell_type": "code",
      "metadata": {
        "colab": {
          "base_uri": "https://localhost:8080/"
        },
        "id": "Y9uIL4fctVmT",
        "outputId": "4b177ded-9fcc-4e2c-8042-a6cffa424efa"
      },
      "source": [
        "original_price = 50\n",
        "discount_rate = 20\n",
        "\n",
        "amount_saved = original_price * (discount_rate / 100)\n",
        "sale_price = original_price - amount_saved\n",
        "\n",
        "print(\"Amount Saved: \", amount_saved)\n",
        "print(\"Sale Price: \", sale_price)"
      ],
      "execution_count": 2,
      "outputs": [
        {
          "output_type": "stream",
          "name": "stdout",
          "text": [
            "Amount Saved:  10.0\n",
            "Sale Price:  40.0\n"
          ]
        }
      ]
    },
    {
      "cell_type": "markdown",
      "metadata": {
        "id": "0KzZbmkzuS-m"
      },
      "source": [
        "What about the tax?\n",
        "\n",
        "Tax is calculated on the sale price\n",
        "\n",
        "tax = sale_price * gst\n",
        "\n",
        "let gst = 10%\n",
        "\n",
        "total_price = sale_price + tax\n"
      ]
    },
    {
      "cell_type": "code",
      "metadata": {
        "colab": {
          "base_uri": "https://localhost:8080/"
        },
        "id": "eF0KW9VPuC6l",
        "outputId": "ee82193e-91c5-4831-f8a1-201a3e09a218"
      },
      "source": [
        "gst = 10\n",
        "tax = sale_price * gst/100\n",
        "total_price = sale_price + tax\n",
        "print(\"Total Price: \", total_price ) "
      ],
      "execution_count": 3,
      "outputs": [
        {
          "output_type": "stream",
          "name": "stdout",
          "text": [
            "Total Price:  44.0\n"
          ]
        }
      ]
    },
    {
      "cell_type": "markdown",
      "metadata": {
        "id": "dlkz5bulvWiU"
      },
      "source": [
        "## Processing/Algorithm\n",
        "\n",
        "1. Input data\n",
        "2. Perform the Calculations\n",
        "3. Output the results"
      ]
    },
    {
      "cell_type": "markdown",
      "metadata": {
        "id": "94OLYDpOvsmx"
      },
      "source": [
        "# Modular \n",
        "* easier to read\n",
        "* think about each step\n",
        "* may be ble to reuse \"module\"\n",
        "* may be build library of common tasks\n",
        "\n",
        "### Input Data Module (Step 1)\n",
        "      Input Item Name\n",
        "      Input Original Price\n",
        "      Input Discount Rate\n"
      ]
    },
    {
      "cell_type": "code",
      "metadata": {
        "id": "5I11bEGJu16w"
      },
      "source": [
        "def inputData():     # define a function by returning the 3 inputs\n",
        "  ''' Just returning the 3 inputs '''\n",
        "  item_name = input(\"Please enter the item name: \")\n",
        "  original_price = int(input(\"Pease enter the original price: \"))  # convert to integer\n",
        "  discount_rate = int(input(\"Please enter the discount rate: \")) # convert to integer\n",
        "  return item_name, original_price, discount_rate\n"
      ],
      "execution_count": 4,
      "outputs": []
    },
    {
      "cell_type": "markdown",
      "metadata": {
        "id": "iwHng9CgxOlJ"
      },
      "source": [
        "\n",
        "### Input Data Module (Step 1). v0.2\n",
        "      Write \"Please input the item name\"\n",
        "      Input Item Name\n",
        "      Write \"Please enter the original price\"\n",
        "      Input Original Price\n",
        "      Write \"Please enter the discount rate\"\n",
        "      Input Discount Rate\n",
        "\n",
        "### Input Data Module (Step 1) v0.3\n",
        "      display to the screen  \"Please intput the item name\"\n",
        "      store the input into a variable called  item_name\n",
        "      display to the screen \"Please enter the original price\"\n",
        "      store the input into a variable called original_price\n",
        "      display to the screen \"Please enter the discount rate\"\n",
        "      store the input into a variable called discount_rate"
      ]
    },
    {
      "cell_type": "markdown",
      "metadata": {
        "id": "2PJ6T9MSxHmv"
      },
      "source": [
        "### Output Results Module (Step 3)\n",
        "    Write \"The item is:\"  +. item_name\n",
        "    Write \"Pre sale price was: \" + original_price\n",
        "    etc...."
      ]
    },
    {
      "cell_type": "code",
      "metadata": {
        "id": "bzVDJkemyq8i"
      },
      "source": [
        "def outputResults(item_name, original_price, total_price):  # description must be started and ended by '''\n",
        "  '''This function will output the results of the discount in a nice format'''\n",
        "  print(\"The item is:\" , item_name)\n",
        "  print(\"Pre-sale item is:\" , original_price)\n",
        "  # print(\"Tax\", tax)\n",
        "  print(\"Total Price with GST is:\" , total_price)\n",
        "  # Need to add more here!"
      ],
      "execution_count": 5,
      "outputs": []
    },
    {
      "cell_type": "code",
      "metadata": {
        "colab": {
          "base_uri": "https://localhost:8080/"
        },
        "id": "U3e4BuCwy-M0",
        "outputId": "511c5e61-cadf-4b28-cbab-fb1e25bc2a20"
      },
      "source": [
        "outputResults(\"Python Programming Book\", 50, 44)"
      ],
      "execution_count": 6,
      "outputs": [
        {
          "output_type": "stream",
          "name": "stdout",
          "text": [
            "The item is: Python Programming Book\n",
            "Pre-sale item is: 50\n",
            "Total Price with GST is: 44\n"
          ]
        }
      ]
    },
    {
      "cell_type": "markdown",
      "metadata": {
        "id": "wtYTGJzizfpD"
      },
      "source": [
        "## Perform the Calculations (Step 2)\n",
        "\n",
        "    amount_saved = original_price * ( discount_rate / 100)\n",
        "    sale_price = original_price - amount_saved\n",
        "    let gst = 10%\n",
        "    tax = sale_price * gst\n",
        "    total_price = sale_price + tax\n"
      ]
    },
    {
      "cell_type": "code",
      "metadata": {
        "id": "e1StufelzB8v"
      },
      "source": [
        "def calculateTotalPrice(original_price, discount_rate):\n",
        "  amount_saved = original_price * ( discount_rate / 100)\n",
        "  sale_price = original_price - amount_saved\n",
        "  gst = 10\n",
        "  tax = sale_price * gst/100\n",
        "  total_price = sale_price + tax\n",
        "  return total_price\n"
      ],
      "execution_count": 7,
      "outputs": []
    },
    {
      "cell_type": "code",
      "metadata": {
        "colab": {
          "base_uri": "https://localhost:8080/"
        },
        "id": "xzG1_Qex0qMp",
        "outputId": "18e9201b-399b-4e9d-de14-489868485bed"
      },
      "source": [
        "calculateTotalPrice(50, 20)"
      ],
      "execution_count": 8,
      "outputs": [
        {
          "output_type": "execute_result",
          "data": {
            "text/plain": [
              "44.0"
            ]
          },
          "metadata": {},
          "execution_count": 8
        }
      ]
    },
    {
      "cell_type": "code",
      "metadata": {
        "colab": {
          "base_uri": "https://localhost:8080/"
        },
        "id": "gdHFnc4p0s88",
        "outputId": "af4d6e1c-1642-4b0e-db34-ccb7f48dd0bb"
      },
      "source": [
        "# Main Program\n",
        "\n",
        "# Step 1: Input data\n",
        "name, price, discount = inputData()  # varibles put before the function name, to assign value\n",
        "\n",
        "# Step 2: Perform the Calculations\n",
        "total = calculateTotalPrice(price, discount)\n",
        "\n",
        "# Step 3: Output the results\n",
        "outputResults(name, price, total)\n"
      ],
      "execution_count": 9,
      "outputs": [
        {
          "output_type": "stream",
          "name": "stdout",
          "text": [
            "Please enter the item name: shoe\n",
            "Pease enter the original price: 100\n",
            "Please enter the discount rate: 5\n",
            "The item is: shoe\n",
            "Pre-sale item is: 100\n",
            "Total Price with GST is: 104.5\n"
          ]
        }
      ]
    },
    {
      "cell_type": "code",
      "metadata": {
        "colab": {
          "base_uri": "https://localhost:8080/"
        },
        "id": "hlMyR9ye1tGu",
        "outputId": "a6997598-0fe5-46f6-f93f-aa5eeec5686d"
      },
      "source": [
        "help(inputData)\n",
        "help(calculateTotalPrice)\n",
        "help(outputResults)\n"
      ],
      "execution_count": 10,
      "outputs": [
        {
          "output_type": "stream",
          "name": "stdout",
          "text": [
            "Help on function inputData in module __main__:\n",
            "\n",
            "inputData()\n",
            "    Just returning the 3 inputs\n",
            "\n",
            "Help on function calculateTotalPrice in module __main__:\n",
            "\n",
            "calculateTotalPrice(original_price, discount_rate)\n",
            "\n",
            "Help on function outputResults in module __main__:\n",
            "\n",
            "outputResults(item_name, original_price, total_price)\n",
            "    This function will output the results of the discount in a nice format\n",
            "\n"
          ]
        }
      ]
    },
    {
      "cell_type": "markdown",
      "metadata": {
        "id": "17oh_a1ZjaBD"
      },
      "source": [
        ""
      ]
    },
    {
      "cell_type": "code",
      "metadata": {
        "id": "JHVH55TS_lMZ"
      },
      "source": [
        ""
      ],
      "execution_count": 10,
      "outputs": []
    }
  ]
}