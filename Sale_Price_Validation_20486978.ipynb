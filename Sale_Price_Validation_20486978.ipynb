{
  "nbformat": 4,
  "nbformat_minor": 0,
  "metadata": {
    "colab": {
      "name": "Sale_Price_Validation_20486978.ipynb",
      "provenance": [],
      "include_colab_link": true
    },
    "kernelspec": {
      "name": "python3",
      "display_name": "Python 3"
    },
    "language_info": {
      "name": "python"
    }
  },
  "cells": [
    {
      "cell_type": "markdown",
      "metadata": {
        "id": "view-in-github",
        "colab_type": "text"
      },
      "source": [
        "<a href=\"https://colab.research.google.com/github/wayamhui/ISYS5002_portfolio/blob/main/Sale_Price_Validation_20486978.ipynb\" target=\"_parent\"><img src=\"https://colab.research.google.com/assets/colab-badge.svg\" alt=\"Open In Colab\"/></a>"
      ]
    },
    {
      "cell_type": "code",
      "metadata": {
        "id": "hlMyR9ye1tGu",
        "colab": {
          "base_uri": "https://localhost:8080/"
        },
        "outputId": "88e9fd12-e122-458f-a4b7-0f7ef12000ec"
      },
      "source": [
        "# This program which when given an item's original price and percentage \n",
        "# it has been discounted, will compute the total price including goods \n",
        "# and services tax of the item on sale.\n",
        "\n",
        "\n",
        "def input_data():\n",
        "  ''' This function will prompt the uers for an item name, price and discount rate. \n",
        "  The values will returned'''\n",
        "  \n",
        "  item_name = input(\"Please enter the item name: \")\n",
        "  \n",
        "  valid = False\n",
        "  while not valid:\n",
        "    try:\n",
        "      original_price = int(input(\"Pease enter the original price: \"))\n",
        "      valid = True\n",
        "    except ValueError:\n",
        "      print ('please input integer')\n",
        "\n",
        "  discount_rate = int(input(\"Please enter the discount rate: \"))\n",
        "  \n",
        "\n",
        "  return item_name, original_price, discount_rate\n",
        "\n",
        "\n",
        "def calculate_total_price(original_price, discount_rate):\n",
        "  '''This funciton will calulate the amount saved and sale price given\n",
        "  the original price and discount rate.  A GST of 10% is applied''' \n",
        "  \n",
        "  # The goods and services tax is a constant\n",
        "  GST = 10 \n",
        "  \n",
        "  amount_saved = original_price * ( discount_rate / 100)\n",
        "  sale_price = original_price - amount_saved\n",
        "  tax = sale_price * GST/100\n",
        "  total_price = sale_price + tax\n",
        "  \n",
        "  return total_price, amount_saved, sale_price, tax\n",
        "\n",
        "\n",
        "\n",
        "def output_results(item_name, original_price, discount_rate, amount_saved,\n",
        "                  sale_price, tax, total_price):\n",
        "  '''This function will output the results of the discount in a nice format'''\n",
        "\n",
        "  print('-'*30)\n",
        "  print('------------------------------')\n",
        "  print(\"Item Name:\" , item_name)\n",
        "  print(\"Pre-sale price: \" , original_price)\n",
        "  print(\"Discount Rate: \", discount_rate)\n",
        "  print(\"Amount Saved: \", amount_saved)\n",
        "  print(\"Sale Price: \", sale_price)\n",
        "  print(\"Good and Services Tax: \", tax)\n",
        "  print(\"Final Price is:\" , total_price)\n",
        "  print('------------------------------')\n",
        "  print('-'*30)\n",
        "\n",
        "\n",
        "# Main Program\n",
        "\n",
        "# Step 1: Input data\n",
        "name, price, discount = input_data()\n",
        "\n",
        "# Step 2: Perform the Calculations\n",
        "total, saved, sale, tax = calculate_total_price(price, discount)\n",
        "\n",
        "# Step 3: Output the results\n",
        "output_results(name, price, discount, saved, sale, tax, total)"
      ],
      "execution_count": 1,
      "outputs": [
        {
          "output_type": "stream",
          "name": "stdout",
          "text": [
            "Please enter the item name: jacke\n",
            "Pease enter the original price: 200\n",
            "Please enter the discount rate: 10\n",
            "------------------------------\n",
            "------------------------------\n",
            "Item Name: jacke\n",
            "Pre-sale price:  200\n",
            "Discount Rate:  10\n",
            "Amount Saved:  20.0\n",
            "Sale Price:  180.0\n",
            "Good and Services Tax:  18.0\n",
            "Final Price is: 198.0\n",
            "------------------------------\n",
            "------------------------------\n"
          ]
        }
      ]
    }
  ]
}