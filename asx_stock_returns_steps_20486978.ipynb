{
  "nbformat": 4,
  "nbformat_minor": 0,
  "metadata": {
    "colab": {
      "name": "asx_stock_returns_steps - 20486978.ipynb",
      "provenance": [],
      "include_colab_link": true
    },
    "kernelspec": {
      "name": "python3",
      "display_name": "Python 3"
    },
    "language_info": {
      "name": "python"
    }
  },
  "cells": [
    {
      "cell_type": "markdown",
      "metadata": {
        "id": "view-in-github",
        "colab_type": "text"
      },
      "source": [
        "<a href=\"https://colab.research.google.com/github/wayamhui/ISYS5002_portfolio/blob/main/asx_stock_returns_steps_20486978.ipynb\" target=\"_parent\"><img src=\"https://colab.research.google.com/assets/colab-badge.svg\" alt=\"Open In Colab\"/></a>"
      ]
    },
    {
      "cell_type": "markdown",
      "metadata": {
        "id": "HNZIlM6oj2Aj"
      },
      "source": [
        "In this notebook we will:\n",
        "\n",
        "* Download prices\n",
        "* Calculate Returns\n",
        "* Calculate mean and standard deviation of returns\n",
        "\n",
        "Lets load the modules first.\n"
      ]
    },
    {
      "cell_type": "code",
      "metadata": {
        "id": "65AKEsMMj7l2"
      },
      "source": [
        "import pandas as pd\n",
        "import matplotlib.pyplot as plt\n",
        "from pandas_datareader import data as pdr"
      ],
      "execution_count": 1,
      "outputs": []
    },
    {
      "cell_type": "markdown",
      "metadata": {
        "id": "NECkTYl1rVYg"
      },
      "source": [
        "Work around as Yahoo FInance made a change causing error with Pandas Datareader \n"
      ]
    },
    {
      "cell_type": "code",
      "metadata": {
        "id": "eQnf6ciwrUBZ",
        "colab": {
          "base_uri": "https://localhost:8080/"
        },
        "outputId": "83bb2c0d-6fc8-4d7c-ea3d-4166a5f05134"
      },
      "source": [
        "!pip install yfinance\n",
        "import yfinance as yfin\n",
        "yfin.pdr_override()"
      ],
      "execution_count": 2,
      "outputs": [
        {
          "output_type": "stream",
          "name": "stdout",
          "text": [
            "Collecting yfinance\n",
            "  Downloading yfinance-0.1.63.tar.gz (26 kB)\n",
            "Requirement already satisfied: pandas>=0.24 in /usr/local/lib/python3.7/dist-packages (from yfinance) (1.1.5)\n",
            "Requirement already satisfied: numpy>=1.15 in /usr/local/lib/python3.7/dist-packages (from yfinance) (1.19.5)\n",
            "Requirement already satisfied: requests>=2.20 in /usr/local/lib/python3.7/dist-packages (from yfinance) (2.23.0)\n",
            "Requirement already satisfied: multitasking>=0.0.7 in /usr/local/lib/python3.7/dist-packages (from yfinance) (0.0.9)\n",
            "Collecting lxml>=4.5.1\n",
            "  Downloading lxml-4.6.3-cp37-cp37m-manylinux2014_x86_64.whl (6.3 MB)\n",
            "\u001b[K     |████████████████████████████████| 6.3 MB 14.8 MB/s \n",
            "\u001b[?25hRequirement already satisfied: pytz>=2017.2 in /usr/local/lib/python3.7/dist-packages (from pandas>=0.24->yfinance) (2018.9)\n",
            "Requirement already satisfied: python-dateutil>=2.7.3 in /usr/local/lib/python3.7/dist-packages (from pandas>=0.24->yfinance) (2.8.2)\n",
            "Requirement already satisfied: six>=1.5 in /usr/local/lib/python3.7/dist-packages (from python-dateutil>=2.7.3->pandas>=0.24->yfinance) (1.15.0)\n",
            "Requirement already satisfied: idna<3,>=2.5 in /usr/local/lib/python3.7/dist-packages (from requests>=2.20->yfinance) (2.10)\n",
            "Requirement already satisfied: chardet<4,>=3.0.2 in /usr/local/lib/python3.7/dist-packages (from requests>=2.20->yfinance) (3.0.4)\n",
            "Requirement already satisfied: urllib3!=1.25.0,!=1.25.1,<1.26,>=1.21.1 in /usr/local/lib/python3.7/dist-packages (from requests>=2.20->yfinance) (1.24.3)\n",
            "Requirement already satisfied: certifi>=2017.4.17 in /usr/local/lib/python3.7/dist-packages (from requests>=2.20->yfinance) (2021.5.30)\n",
            "Building wheels for collected packages: yfinance\n",
            "  Building wheel for yfinance (setup.py) ... \u001b[?25l\u001b[?25hdone\n",
            "  Created wheel for yfinance: filename=yfinance-0.1.63-py2.py3-none-any.whl size=23918 sha256=1b87b7d056880008f7285de7ec1d53736c45c33c4887ec18d22b4038e7aba7fc\n",
            "  Stored in directory: /root/.cache/pip/wheels/fe/87/8b/7ec24486e001d3926537f5f7801f57a74d181be25b11157983\n",
            "Successfully built yfinance\n",
            "Installing collected packages: lxml, yfinance\n",
            "  Attempting uninstall: lxml\n",
            "    Found existing installation: lxml 4.2.6\n",
            "    Uninstalling lxml-4.2.6:\n",
            "      Successfully uninstalled lxml-4.2.6\n",
            "Successfully installed lxml-4.6.3 yfinance-0.1.63\n"
          ]
        }
      ]
    },
    {
      "cell_type": "markdown",
      "metadata": {
        "id": "NoqWddgEnsgn"
      },
      "source": [
        "## Step 1: Specify date range for analysis \n",
        "\n",
        "Here we begin by creating start and end dates using pythons datetime module. "
      ]
    },
    {
      "cell_type": "code",
      "metadata": {
        "id": "RPfSzWb7gZDE",
        "colab": {
          "base_uri": "https://localhost:8080/"
        },
        "outputId": "1bee8189-7ce1-42ea-b2e2-bd9066330c4f"
      },
      "source": [
        "help(pdr.get_data_yahoo)\n",
        "start = \"2009-01-01\"\n",
        "end = \"2021-09-15\"\n",
        "\n",
        "\n"
      ],
      "execution_count": 3,
      "outputs": [
        {
          "output_type": "stream",
          "name": "stdout",
          "text": [
            "Help on function download in module yfinance.multi:\n",
            "\n",
            "download(tickers, start=None, end=None, actions=False, threads=True, group_by='column', auto_adjust=False, back_adjust=False, progress=True, period='max', show_errors=True, interval='1d', prepost=False, proxy=None, rounding=False, **kwargs)\n",
            "    Download yahoo tickers\n",
            "    :Parameters:\n",
            "        tickers : str, list\n",
            "            List of tickers to download\n",
            "        period : str\n",
            "            Valid periods: 1d,5d,1mo,3mo,6mo,1y,2y,5y,10y,ytd,max\n",
            "            Either Use period parameter or use start and end\n",
            "        interval : str\n",
            "            Valid intervals: 1m,2m,5m,15m,30m,60m,90m,1h,1d,5d,1wk,1mo,3mo\n",
            "            Intraday data cannot extend last 60 days\n",
            "        start: str\n",
            "            Download start date string (YYYY-MM-DD) or _datetime.\n",
            "            Default is 1900-01-01\n",
            "        end: str\n",
            "            Download end date string (YYYY-MM-DD) or _datetime.\n",
            "            Default is now\n",
            "        group_by : str\n",
            "            Group by 'ticker' or 'column' (default)\n",
            "        prepost : bool\n",
            "            Include Pre and Post market data in results?\n",
            "            Default is False\n",
            "        auto_adjust: bool\n",
            "            Adjust all OHLC automatically? Default is False\n",
            "        actions: bool\n",
            "            Download dividend + stock splits data. Default is False\n",
            "        threads: bool / int\n",
            "            How many threads to use for mass downloading. Default is True\n",
            "        proxy: str\n",
            "            Optional. Proxy server URL scheme. Default is None\n",
            "        rounding: bool\n",
            "            Optional. Round values to 2 decimal places?\n",
            "        show_errors: bool\n",
            "            Optional. Doesn't print errors if True\n",
            "\n"
          ]
        }
      ]
    },
    {
      "cell_type": "markdown",
      "metadata": {
        "id": "13o_1wssoBjF"
      },
      "source": [
        "## Step 2: Select the stocks/tickers you would like to analyse\n",
        "\n",
        "For Australian stocks, yahoo tickers require '.AX' to be specified at the end of the ticker symbol.  For other tickers use the search bar in yahoo finance."
      ]
    },
    {
      "cell_type": "code",
      "metadata": {
        "id": "Y6ZrCfWNgeoZ"
      },
      "source": [
        "tickers = [ 'NAB.AX','CBA.AX' ]"
      ],
      "execution_count": 4,
      "outputs": []
    },
    {
      "cell_type": "markdown",
      "metadata": {
        "id": "xSez_wk4oZZP"
      },
      "source": [
        "# Step 3: call the Pandas_Datareader DataReader module"
      ]
    },
    {
      "cell_type": "code",
      "metadata": {
        "id": "DiHcvM3_lWkw",
        "colab": {
          "base_uri": "https://localhost:8080/",
          "height": 615
        },
        "outputId": "32500028-1bb3-4ee4-c174-2132843bf8d5"
      },
      "source": [
        "df = pdr.get_data_yahoo(tickers,start,end)  # please pay attention to spelling, df refers to datafile\n",
        "\n",
        "print(df.head())\n",
        "df.tail(10)"
      ],
      "execution_count": 5,
      "outputs": [
        {
          "output_type": "stream",
          "name": "stdout",
          "text": [
            "[*********************100%***********************]  2 of 2 completed\n",
            "            Adj Close                Close  ...       Open     Volume           \n",
            "               CBA.AX    NAB.AX     CBA.AX  ...     NAB.AX     CBA.AX     NAB.AX\n",
            "Date                                        ...                                 \n",
            "2009-01-02  14.494560  8.887322  29.042646  ...  19.929367  2269780.0  2572210.0\n",
            "2009-01-05  14.196730  8.813264  28.445881  ...  19.691547  2908531.0  2822855.0\n",
            "2009-01-06  14.628587  9.035445  29.311192  ...  19.624958  2564247.0  3803343.0\n",
            "2009-01-07  14.370466  9.100793  28.793995  ...  19.853266  3413898.0  4676568.0\n",
            "2009-01-08  14.176877  9.087725  28.406096  ...  19.501291  3969963.0  2949396.0\n",
            "\n",
            "[5 rows x 12 columns]\n"
          ]
        },
        {
          "output_type": "execute_result",
          "data": {
            "text/html": [
              "<div>\n",
              "<style scoped>\n",
              "    .dataframe tbody tr th:only-of-type {\n",
              "        vertical-align: middle;\n",
              "    }\n",
              "\n",
              "    .dataframe tbody tr th {\n",
              "        vertical-align: top;\n",
              "    }\n",
              "\n",
              "    .dataframe thead tr th {\n",
              "        text-align: left;\n",
              "    }\n",
              "\n",
              "    .dataframe thead tr:last-of-type th {\n",
              "        text-align: right;\n",
              "    }\n",
              "</style>\n",
              "<table border=\"1\" class=\"dataframe\">\n",
              "  <thead>\n",
              "    <tr>\n",
              "      <th></th>\n",
              "      <th colspan=\"2\" halign=\"left\">Adj Close</th>\n",
              "      <th colspan=\"2\" halign=\"left\">Close</th>\n",
              "      <th colspan=\"2\" halign=\"left\">High</th>\n",
              "      <th colspan=\"2\" halign=\"left\">Low</th>\n",
              "      <th colspan=\"2\" halign=\"left\">Open</th>\n",
              "      <th colspan=\"2\" halign=\"left\">Volume</th>\n",
              "    </tr>\n",
              "    <tr>\n",
              "      <th></th>\n",
              "      <th>CBA.AX</th>\n",
              "      <th>NAB.AX</th>\n",
              "      <th>CBA.AX</th>\n",
              "      <th>NAB.AX</th>\n",
              "      <th>CBA.AX</th>\n",
              "      <th>NAB.AX</th>\n",
              "      <th>CBA.AX</th>\n",
              "      <th>NAB.AX</th>\n",
              "      <th>CBA.AX</th>\n",
              "      <th>NAB.AX</th>\n",
              "      <th>CBA.AX</th>\n",
              "      <th>NAB.AX</th>\n",
              "    </tr>\n",
              "    <tr>\n",
              "      <th>Date</th>\n",
              "      <th></th>\n",
              "      <th></th>\n",
              "      <th></th>\n",
              "      <th></th>\n",
              "      <th></th>\n",
              "      <th></th>\n",
              "      <th></th>\n",
              "      <th></th>\n",
              "      <th></th>\n",
              "      <th></th>\n",
              "      <th></th>\n",
              "      <th></th>\n",
              "    </tr>\n",
              "  </thead>\n",
              "  <tbody>\n",
              "    <tr>\n",
              "      <th>2021-09-02</th>\n",
              "      <td>101.370003</td>\n",
              "      <td>28.490000</td>\n",
              "      <td>101.370003</td>\n",
              "      <td>28.490000</td>\n",
              "      <td>102.000000</td>\n",
              "      <td>28.490000</td>\n",
              "      <td>100.410004</td>\n",
              "      <td>28.090000</td>\n",
              "      <td>101.500000</td>\n",
              "      <td>28.400000</td>\n",
              "      <td>1887736.0</td>\n",
              "      <td>5917605.0</td>\n",
              "    </tr>\n",
              "    <tr>\n",
              "      <th>2021-09-03</th>\n",
              "      <td>101.839996</td>\n",
              "      <td>28.700001</td>\n",
              "      <td>101.839996</td>\n",
              "      <td>28.700001</td>\n",
              "      <td>102.000000</td>\n",
              "      <td>28.780001</td>\n",
              "      <td>101.019997</td>\n",
              "      <td>28.340000</td>\n",
              "      <td>101.360001</td>\n",
              "      <td>28.500000</td>\n",
              "      <td>1604540.0</td>\n",
              "      <td>6780611.0</td>\n",
              "    </tr>\n",
              "    <tr>\n",
              "      <th>2021-09-06</th>\n",
              "      <td>102.160004</td>\n",
              "      <td>28.860001</td>\n",
              "      <td>102.160004</td>\n",
              "      <td>28.860001</td>\n",
              "      <td>102.160004</td>\n",
              "      <td>28.860001</td>\n",
              "      <td>100.629997</td>\n",
              "      <td>28.379999</td>\n",
              "      <td>101.309998</td>\n",
              "      <td>28.510000</td>\n",
              "      <td>1458446.0</td>\n",
              "      <td>4803166.0</td>\n",
              "    </tr>\n",
              "    <tr>\n",
              "      <th>2021-09-07</th>\n",
              "      <td>102.139999</td>\n",
              "      <td>28.670000</td>\n",
              "      <td>102.139999</td>\n",
              "      <td>28.670000</td>\n",
              "      <td>102.489998</td>\n",
              "      <td>28.879999</td>\n",
              "      <td>101.580002</td>\n",
              "      <td>28.469999</td>\n",
              "      <td>102.000000</td>\n",
              "      <td>28.799999</td>\n",
              "      <td>1332462.0</td>\n",
              "      <td>3677009.0</td>\n",
              "    </tr>\n",
              "    <tr>\n",
              "      <th>2021-09-08</th>\n",
              "      <td>102.919998</td>\n",
              "      <td>28.850000</td>\n",
              "      <td>102.919998</td>\n",
              "      <td>28.850000</td>\n",
              "      <td>103.300003</td>\n",
              "      <td>28.850000</td>\n",
              "      <td>101.519997</td>\n",
              "      <td>28.440001</td>\n",
              "      <td>101.580002</td>\n",
              "      <td>28.450001</td>\n",
              "      <td>2118352.0</td>\n",
              "      <td>5225645.0</td>\n",
              "    </tr>\n",
              "    <tr>\n",
              "      <th>2021-09-09</th>\n",
              "      <td>100.550003</td>\n",
              "      <td>28.400000</td>\n",
              "      <td>100.550003</td>\n",
              "      <td>28.400000</td>\n",
              "      <td>102.300003</td>\n",
              "      <td>28.740000</td>\n",
              "      <td>100.089996</td>\n",
              "      <td>28.160000</td>\n",
              "      <td>102.050003</td>\n",
              "      <td>28.680000</td>\n",
              "      <td>2468569.0</td>\n",
              "      <td>6209123.0</td>\n",
              "    </tr>\n",
              "    <tr>\n",
              "      <th>2021-09-10</th>\n",
              "      <td>101.089996</td>\n",
              "      <td>28.450001</td>\n",
              "      <td>101.089996</td>\n",
              "      <td>28.450001</td>\n",
              "      <td>101.989998</td>\n",
              "      <td>28.730000</td>\n",
              "      <td>100.680000</td>\n",
              "      <td>28.270000</td>\n",
              "      <td>101.919998</td>\n",
              "      <td>28.650000</td>\n",
              "      <td>1995586.0</td>\n",
              "      <td>4490010.0</td>\n",
              "    </tr>\n",
              "    <tr>\n",
              "      <th>2021-09-13</th>\n",
              "      <td>101.300003</td>\n",
              "      <td>28.180000</td>\n",
              "      <td>101.300003</td>\n",
              "      <td>28.180000</td>\n",
              "      <td>101.370003</td>\n",
              "      <td>28.340000</td>\n",
              "      <td>100.389999</td>\n",
              "      <td>28.030001</td>\n",
              "      <td>100.779999</td>\n",
              "      <td>28.250000</td>\n",
              "      <td>1119691.0</td>\n",
              "      <td>4081323.0</td>\n",
              "    </tr>\n",
              "    <tr>\n",
              "      <th>2021-09-14</th>\n",
              "      <td>101.580002</td>\n",
              "      <td>28.230000</td>\n",
              "      <td>101.580002</td>\n",
              "      <td>28.230000</td>\n",
              "      <td>101.959999</td>\n",
              "      <td>28.340000</td>\n",
              "      <td>100.110001</td>\n",
              "      <td>28.040001</td>\n",
              "      <td>100.900002</td>\n",
              "      <td>28.299999</td>\n",
              "      <td>2114634.0</td>\n",
              "      <td>5473211.0</td>\n",
              "    </tr>\n",
              "    <tr>\n",
              "      <th>2021-09-15</th>\n",
              "      <td>101.410004</td>\n",
              "      <td>28.139999</td>\n",
              "      <td>101.410004</td>\n",
              "      <td>28.139999</td>\n",
              "      <td>101.790001</td>\n",
              "      <td>28.200001</td>\n",
              "      <td>100.379997</td>\n",
              "      <td>27.889999</td>\n",
              "      <td>101.129997</td>\n",
              "      <td>28.010000</td>\n",
              "      <td>1668541.0</td>\n",
              "      <td>4458631.0</td>\n",
              "    </tr>\n",
              "  </tbody>\n",
              "</table>\n",
              "</div>"
            ],
            "text/plain": [
              "             Adj Close                  Close  ...       Open     Volume           \n",
              "                CBA.AX     NAB.AX      CBA.AX  ...     NAB.AX     CBA.AX     NAB.AX\n",
              "Date                                           ...                                 \n",
              "2021-09-02  101.370003  28.490000  101.370003  ...  28.400000  1887736.0  5917605.0\n",
              "2021-09-03  101.839996  28.700001  101.839996  ...  28.500000  1604540.0  6780611.0\n",
              "2021-09-06  102.160004  28.860001  102.160004  ...  28.510000  1458446.0  4803166.0\n",
              "2021-09-07  102.139999  28.670000  102.139999  ...  28.799999  1332462.0  3677009.0\n",
              "2021-09-08  102.919998  28.850000  102.919998  ...  28.450001  2118352.0  5225645.0\n",
              "2021-09-09  100.550003  28.400000  100.550003  ...  28.680000  2468569.0  6209123.0\n",
              "2021-09-10  101.089996  28.450001  101.089996  ...  28.650000  1995586.0  4490010.0\n",
              "2021-09-13  101.300003  28.180000  101.300003  ...  28.250000  1119691.0  4081323.0\n",
              "2021-09-14  101.580002  28.230000  101.580002  ...  28.299999  2114634.0  5473211.0\n",
              "2021-09-15  101.410004  28.139999  101.410004  ...  28.010000  1668541.0  4458631.0\n",
              "\n",
              "[10 rows x 12 columns]"
            ]
          },
          "metadata": {},
          "execution_count": 5
        }
      ]
    },
    {
      "cell_type": "markdown",
      "metadata": {
        "id": "7-Y707wBodqa"
      },
      "source": [
        "## Step 4: Understanding the pandas dataframe structure\n",
        "\n",
        "A good way to quickly understand how a pandas dataframe is structured is to look at the index and the columns."
      ]
    },
    {
      "cell_type": "code",
      "metadata": {
        "id": "uu_BWD_llZ9q",
        "colab": {
          "base_uri": "https://localhost:8080/"
        },
        "outputId": "dbba5a56-d333-4b46-a636-e6f2cf61af2f"
      },
      "source": [
        "df.index, df.columns, df.head()  # putting in same line can output whole line (as only last line will be output in python)"
      ],
      "execution_count": 6,
      "outputs": [
        {
          "output_type": "execute_result",
          "data": {
            "text/plain": [
              "(DatetimeIndex(['2009-01-02', '2009-01-05', '2009-01-06', '2009-01-07',\n",
              "                '2009-01-08', '2009-01-09', '2009-01-12', '2009-01-13',\n",
              "                '2009-01-14', '2009-01-15',\n",
              "                ...\n",
              "                '2021-09-02', '2021-09-03', '2021-09-06', '2021-09-07',\n",
              "                '2021-09-08', '2021-09-09', '2021-09-10', '2021-09-13',\n",
              "                '2021-09-14', '2021-09-15'],\n",
              "               dtype='datetime64[ns]', name='Date', length=3214, freq=None),\n",
              " MultiIndex([('Adj Close', 'CBA.AX'),\n",
              "             ('Adj Close', 'NAB.AX'),\n",
              "             (    'Close', 'CBA.AX'),\n",
              "             (    'Close', 'NAB.AX'),\n",
              "             (     'High', 'CBA.AX'),\n",
              "             (     'High', 'NAB.AX'),\n",
              "             (      'Low', 'CBA.AX'),\n",
              "             (      'Low', 'NAB.AX'),\n",
              "             (     'Open', 'CBA.AX'),\n",
              "             (     'Open', 'NAB.AX'),\n",
              "             (   'Volume', 'CBA.AX'),\n",
              "             (   'Volume', 'NAB.AX')],\n",
              "            ),\n",
              "             Adj Close                Close  ...       Open     Volume           \n",
              "                CBA.AX    NAB.AX     CBA.AX  ...     NAB.AX     CBA.AX     NAB.AX\n",
              " Date                                        ...                                 \n",
              " 2009-01-02  14.494560  8.887322  29.042646  ...  19.929367  2269780.0  2572210.0\n",
              " 2009-01-05  14.196730  8.813264  28.445881  ...  19.691547  2908531.0  2822855.0\n",
              " 2009-01-06  14.628587  9.035445  29.311192  ...  19.624958  2564247.0  3803343.0\n",
              " 2009-01-07  14.370466  9.100793  28.793995  ...  19.853266  3413898.0  4676568.0\n",
              " 2009-01-08  14.176877  9.087725  28.406096  ...  19.501291  3969963.0  2949396.0\n",
              " \n",
              " [5 rows x 12 columns])"
            ]
          },
          "metadata": {},
          "execution_count": 6
        }
      ]
    },
    {
      "cell_type": "markdown",
      "metadata": {
        "id": "xmcQWB9Vo8pX"
      },
      "source": [
        "## Step 5: Access useful attributes easily\n",
        "\n",
        "We are interested in the closing price information for all of these stocks."
      ]
    },
    {
      "cell_type": "code",
      "metadata": {
        "id": "rVugNpr-olSV",
        "colab": {
          "base_uri": "https://localhost:8080/"
        },
        "outputId": "eca21444-aa77-452e-d4b3-b48daf311eed"
      },
      "source": [
        "print (df['Close'])  # same as df.Close in this case\n",
        "df.Close\n",
        "close = df.Close  # optional to create a short name"
      ],
      "execution_count": 7,
      "outputs": [
        {
          "output_type": "stream",
          "name": "stdout",
          "text": [
            "                CBA.AX     NAB.AX\n",
            "Date                             \n",
            "2009-01-02   29.042646  19.406162\n",
            "2009-01-05   28.445881  19.244446\n",
            "2009-01-06   29.311192  19.729599\n",
            "2009-01-07   28.793995  19.872292\n",
            "2009-01-08   28.406096  19.843754\n",
            "...                ...        ...\n",
            "2021-09-09  100.550003  28.400000\n",
            "2021-09-10  101.089996  28.450001\n",
            "2021-09-13  101.300003  28.180000\n",
            "2021-09-14  101.580002  28.230000\n",
            "2021-09-15  101.410004  28.139999\n",
            "\n",
            "[3214 rows x 2 columns]\n"
          ]
        }
      ]
    },
    {
      "cell_type": "markdown",
      "metadata": {
        "id": "DKbUd2tcpGl3"
      },
      "source": [
        "## Step 6: Gain insights quickly with pandas describe method\n"
      ]
    },
    {
      "cell_type": "code",
      "metadata": {
        "id": "n2_QynuJpBZQ",
        "colab": {
          "base_uri": "https://localhost:8080/",
          "height": 299
        },
        "outputId": "c1bc729f-c6c7-4354-ec3a-f4c299ed62b1"
      },
      "source": [
        "# df.Close.describe()\n",
        "df.Close.describe(percentiles=[0.05,0.5,0.95])"
      ],
      "execution_count": 8,
      "outputs": [
        {
          "output_type": "execute_result",
          "data": {
            "text/html": [
              "<div>\n",
              "<style scoped>\n",
              "    .dataframe tbody tr th:only-of-type {\n",
              "        vertical-align: middle;\n",
              "    }\n",
              "\n",
              "    .dataframe tbody tr th {\n",
              "        vertical-align: top;\n",
              "    }\n",
              "\n",
              "    .dataframe thead th {\n",
              "        text-align: right;\n",
              "    }\n",
              "</style>\n",
              "<table border=\"1\" class=\"dataframe\">\n",
              "  <thead>\n",
              "    <tr style=\"text-align: right;\">\n",
              "      <th></th>\n",
              "      <th>CBA.AX</th>\n",
              "      <th>NAB.AX</th>\n",
              "    </tr>\n",
              "  </thead>\n",
              "  <tbody>\n",
              "    <tr>\n",
              "      <th>count</th>\n",
              "      <td>3212.000000</td>\n",
              "      <td>3212.000000</td>\n",
              "    </tr>\n",
              "    <tr>\n",
              "      <th>mean</th>\n",
              "      <td>68.705414</td>\n",
              "      <td>26.603584</td>\n",
              "    </tr>\n",
              "    <tr>\n",
              "      <th>std</th>\n",
              "      <td>15.493867</td>\n",
              "      <td>4.390008</td>\n",
              "    </tr>\n",
              "    <tr>\n",
              "      <th>min</th>\n",
              "      <td>23.940290</td>\n",
              "      <td>13.880000</td>\n",
              "    </tr>\n",
              "    <tr>\n",
              "      <th>5%</th>\n",
              "      <td>44.121947</td>\n",
              "      <td>18.271000</td>\n",
              "    </tr>\n",
              "    <tr>\n",
              "      <th>50%</th>\n",
              "      <td>72.882553</td>\n",
              "      <td>26.608685</td>\n",
              "    </tr>\n",
              "    <tr>\n",
              "      <th>95%</th>\n",
              "      <td>89.484753</td>\n",
              "      <td>33.146962</td>\n",
              "    </tr>\n",
              "    <tr>\n",
              "      <th>max</th>\n",
              "      <td>108.169998</td>\n",
              "      <td>37.642250</td>\n",
              "    </tr>\n",
              "  </tbody>\n",
              "</table>\n",
              "</div>"
            ],
            "text/plain": [
              "            CBA.AX       NAB.AX\n",
              "count  3212.000000  3212.000000\n",
              "mean     68.705414    26.603584\n",
              "std      15.493867     4.390008\n",
              "min      23.940290    13.880000\n",
              "5%       44.121947    18.271000\n",
              "50%      72.882553    26.608685\n",
              "95%      89.484753    33.146962\n",
              "max     108.169998    37.642250"
            ]
          },
          "metadata": {},
          "execution_count": 8
        }
      ]
    },
    {
      "cell_type": "markdown",
      "metadata": {
        "id": "efy-YAV1ph8T"
      },
      "source": [
        "## Step 7: Plot and save"
      ]
    },
    {
      "cell_type": "code",
      "metadata": {
        "id": "O3EPGjFqpS4-",
        "colab": {
          "base_uri": "https://localhost:8080/",
          "height": 416
        },
        "outputId": "ea2a08ab-8873-4136-f057-8dbc6dc9c00c"
      },
      "source": [
        "# df.Close.plot()\n",
        "df.Close.plot(figsize=(14,7)) # please search google\n",
        "plt.savefig(\"nab_cba.pdf\")"
      ],
      "execution_count": 9,
      "outputs": [
        {
          "output_type": "display_data",
          "data": {
            "image/png": "[encoded data removed]",
            "text/plain": [
              "<Figure size 1008x504 with 1 Axes>"
            ]
          },
          "metadata": {
            "needs_background": "light"
          }
        }
      ]
    },
    {
      "cell_type": "code",
      "metadata": {
        "id": "HNJ5WPhh4odH"
      },
      "source": [
        ""
      ],
      "execution_count": 9,
      "outputs": []
    }
  ]
}